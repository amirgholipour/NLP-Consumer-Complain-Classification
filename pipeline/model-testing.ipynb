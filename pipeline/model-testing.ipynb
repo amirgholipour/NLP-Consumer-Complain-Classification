{
 "cells": [
  {
   "cell_type": "code",
   "execution_count": null,
   "id": "3bed4fe9-c367-46b8-9f61-c8e7e35255ac",
   "metadata": {},
   "outputs": [],
   "source": []
  }
 ],
 "metadata": {
  "kernelspec": {
   "display_name": "Python 3 (ipykernel)",
   "language": "python",
   "name": "python3"
  },
  "language_info": {
   "codemirror_mode": {
    "name": "ipython",
    "version": 3
   },
   "file_extension": ".py",
   "mimetype": "text/x-python",
   "name": "python",
   "nbconvert_exporter": "python",
   "pygments_lexer": "ipython3",
   "version": "3.8.8"
  }
 },
 "nbformat": 4,
 "nbformat_minor": 5
}
