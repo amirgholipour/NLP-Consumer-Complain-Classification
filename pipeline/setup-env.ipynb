{
 "cells": [
  {
   "cell_type": "code",
   "execution_count": null,
   "id": "0a0be5d5-6303-4cb4-96ec-9ab680bb1e59",
   "metadata": {},
   "outputs": [],
   "source": [
    "# !pip install klepto\n",
    "# !pip install hickle "
   ]
  },
  {
   "cell_type": "code",
   "execution_count": null,
   "id": "7bdee365-1f77-4ced-8f9f-71333cdbe35b",
   "metadata": {},
   "outputs": [],
   "source": [
    "import os\n",
    "import joblib\n",
    "from minio import Minio\n",
    "import mlflow\n",
    "import sys\n",
    "# sys.path is a list of absolute path strings\n",
    "sys.path.append('/opt/app-root/src/anz_ml_project/')\n",
    "\n",
    "from src.modules.train_model import MLflow\n"
   ]
  },
  {
   "cell_type": "markdown",
   "id": "4a2f4f6d-fae5-47ef-8d40-7d0a10c248ef",
   "metadata": {
    "tags": []
   },
   "source": [
    "# Initialize the config file for mlflow and Minio"
   ]
  },
  {
   "cell_type": "code",
   "execution_count": null,
   "id": "3b515d16-2681-4fe5-94cb-2633e8c2bc66",
   "metadata": {},
   "outputs": [],
   "source": [
    "\n",
    "HOST = \"http://mlflow:5500\"\n",
    "\n",
    "PROJECT_NAME = \"NlpTc\"\n",
    "EXPERIMENT_NAME = \"NlpLstm\"\n",
    "\n",
    "os.environ['MLFLOW_S3_ENDPOINT_URL']='http://minio-ml-workshop:9000'\n",
    "os.environ['AWS_ACCESS_KEY_ID']='minio'\n",
    "os.environ['AWS_SECRET_ACCESS_KEY']='minio123'\n",
    "os.environ['AWS_REGION']='us-east-1'\n",
    "os.environ['AWS_BUCKET_NAME']='raw-data-saeed'\n"
   ]
  },
  {
   "cell_type": "markdown",
   "id": "62ab1bdb-006e-4114-ab37-d79439cac5d8",
   "metadata": {},
   "source": [
    "\n",
    "## Define a Function to read from Minio S3 Bucket"
   ]
  },
  {
   "cell_type": "code",
   "execution_count": null,
   "id": "b0ac8fd9-f4c1-4df8-989d-97e330e603f3",
   "metadata": {
    "tags": []
   },
   "outputs": [],
   "source": [
    "def get_s3_server():\n",
    "    minioClient = Minio('minio-ml-workshop:9000',\n",
    "                    access_key='minio',\n",
    "                    secret_key='minio123',\n",
    "                    secure=False)\n",
    "\n",
    "    return minioClient"
   ]
  },
  {
   "cell_type": "code",
   "execution_count": null,
   "id": "9560eb47-fdc6-4702-b790-3bee4ac70466",
   "metadata": {},
   "outputs": [],
   "source": [
    "client = get_s3_server()\n",
    "client"
   ]
  },
  {
   "cell_type": "code",
   "execution_count": null,
   "id": "37ec8ba1-5ccc-4996-9dfa-06578eff6302",
   "metadata": {},
   "outputs": [],
   "source": [
    "# CLIENT_ENV = client\n",
    "# CLIENT_ENV = os.getenv('CLIENT_ENV')\n",
    "# # os.setenv(\"CLIENT_ENV\",client)\n",
    "# os.environ['CLIENT_ENV'] = client\n",
    "\n",
    "# os.environ.putenv( 'CLIENT_ENV', client)"
   ]
  },
  {
   "cell_type": "markdown",
   "id": "16470d5a-4fd0-4680-ad60-0e86ac0df95d",
   "metadata": {},
   "source": [
    "## SetUp MLFlow to track the model"
   ]
  },
  {
   "cell_type": "code",
   "execution_count": null,
   "id": "10f66c92-97bf-49ca-a102-1a02f7e4f57a",
   "metadata": {},
   "outputs": [],
   "source": [
    "mlflow = MLflow(mlflow, HOST,EXPERIMENT_NAME).SetUp_Mlflow()"
   ]
  },
  {
   "cell_type": "code",
   "execution_count": null,
   "id": "f9fcbc4d-542d-451c-bfa2-6036c428c0e7",
   "metadata": {},
   "outputs": [],
   "source": []
  },
  {
   "cell_type": "code",
   "execution_count": null,
   "id": "9f3745bb-ef41-477e-b156-7da53782e4ac",
   "metadata": {},
   "outputs": [],
   "source": [
    "from klepto.archives import file_archive,hdf_archive\n",
    "db = file_archive('variables-step1.pkl')\n",
    "db['os'] = os\n",
    "\n",
    "db.dump()"
   ]
  },
  {
   "cell_type": "code",
   "execution_count": null,
   "id": "7af430a4-bd7a-44f4-8e1a-25a434f30621",
   "metadata": {},
   "outputs": [],
   "source": [
    "import shelve\n",
    "myShelve = shelve.open('my.shelve')\n",
    "myShelve.update(client)\n",
    "myShelve.close()"
   ]
  },
  {
   "cell_type": "code",
   "execution_count": null,
   "id": "d2204c4c-a672-4ee0-bf5d-c59eeaff6c60",
   "metadata": {},
   "outputs": [],
   "source": [
    "import shelve\n",
    "\n",
    "myShelve = shelve.open('my.shelve')\n",
    "value = myShelve['a']"
   ]
  },
  {
   "cell_type": "code",
   "execution_count": null,
   "id": "5034e4a7-4d4b-460e-ab02-053eafc1e125",
   "metadata": {},
   "outputs": [],
   "source": [
    "import pickle\n",
    "\n",
    "\n",
    "pickle.dump(client, open(\"step1_output.sav\", \"wb\"))\n",
    "\n",
    "c,d = pickle.load(open(\"step1_output.sav\",\"rb\"))"
   ]
  },
  {
   "cell_type": "code",
   "execution_count": null,
   "id": "e72af648-6d85-47a1-a2c0-c88cbad51a9d",
   "metadata": {},
   "outputs": [],
   "source": []
  }
 ],
 "metadata": {
  "kernelspec": {
   "display_name": "Python 3.9 (XPython)",
   "language": "python",
   "name": "xpython"
  },
  "language_info": {
   "file_extension": ".py",
   "mimetype": "text/x-python",
   "name": "python",
   "version": "3.9.7"
  }
 },
 "nbformat": 4,
 "nbformat_minor": 5
}
