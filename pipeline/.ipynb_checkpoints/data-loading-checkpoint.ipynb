{
 "cells": [
  {
   "cell_type": "code",
   "execution_count": 1,
   "id": "464f3bc4-80b4-451b-b643-092a7ccd9794",
   "metadata": {
    "execution": {
     "iopub.execute_input": "2021-10-29T03:59:27.215095Z",
     "iopub.status.busy": "2021-10-29T03:59:27.214654Z",
     "iopub.status.idle": "2021-10-29T03:59:27.965294Z",
     "shell.execute_reply": "2021-10-29T03:59:27.964782Z"
    },
    "papermill": {
     "duration": 0.757596,
     "end_time": "2021-10-29T03:59:27.965417",
     "exception": false,
     "start_time": "2021-10-29T03:59:27.207821",
     "status": "completed"
    },
    "tags": []
   },
   "outputs": [],
   "source": [
    "import os\n",
    "import sys\n",
    "# sys.path is a list of absolute path strings\n",
    "sys.path.append('/opt/app-root/src/anz_ml_project/')\n",
    "from src.loadingdata.read_dataset import ReadData\n",
    "from klepto.archives import file_archive\n",
    "\n",
    "from minio import Minio\n",
    "import joblib"
   ]
  },
  {
   "cell_type": "code",
   "execution_count": 2,
   "id": "6fe1f0c7-00fe-4391-b130-1abe66bf1ede",
   "metadata": {
    "execution": {
     "iopub.execute_input": "2021-10-29T03:59:27.976393Z",
     "iopub.status.busy": "2021-10-29T03:59:27.975941Z",
     "iopub.status.idle": "2021-10-29T03:59:27.977613Z",
     "shell.execute_reply": "2021-10-29T03:59:27.976913Z"
    },
    "papermill": {
     "duration": 0.007267,
     "end_time": "2021-10-29T03:59:27.977711",
     "exception": false,
     "start_time": "2021-10-29T03:59:27.970444",
     "status": "completed"
    },
    "tags": []
   },
   "outputs": [],
   "source": [
    "# s3_bucket_name = \"raw-data-saeed\"\n",
    "# file_name=\"large_cc_data.csv\"\n",
    "from klepto.archives import file_archive\n",
    "\n",
    "# db = file_archive('variables-step1.pkl')\n",
    "# db.load()\n",
    "os.environ[\"S3_BUCKET_NAME\"] = 'raw-data-saeed'\n",
    "os.environ[\"FILE_NAME\"] = 'data.csv'\n",
    "\n"
   ]
  },
  {
   "cell_type": "code",
   "execution_count": 3,
   "id": "818fe841-c3d2-4312-bd81-c2e8c311cbcc",
   "metadata": {
    "execution": {
     "iopub.execute_input": "2021-10-29T03:59:27.988156Z",
     "iopub.status.busy": "2021-10-29T03:59:27.987753Z",
     "iopub.status.idle": "2021-10-29T03:59:27.989486Z",
     "shell.execute_reply": "2021-10-29T03:59:27.989024Z"
    },
    "papermill": {
     "duration": 0.007196,
     "end_time": "2021-10-29T03:59:27.989586",
     "exception": false,
     "start_time": "2021-10-29T03:59:27.982390",
     "status": "completed"
    },
    "tags": []
   },
   "outputs": [],
   "source": [
    "def get_s3_server():\n",
    "    minioClient = Minio('minio-ml-workshop:9000',\n",
    "                    access_key='minio',\n",
    "                    secret_key='minio123',\n",
    "                    secure=False)\n",
    "\n",
    "    return minioClient\n",
    "\n",
    "client = get_s3_server()\n"
   ]
  },
  {
   "cell_type": "code",
   "execution_count": 4,
   "id": "9fcb67f3-b348-43fd-9e98-b4e87e42c947",
   "metadata": {
    "execution": {
     "iopub.execute_input": "2021-10-29T03:59:28.000398Z",
     "iopub.status.busy": "2021-10-29T03:59:27.999975Z",
     "iopub.status.idle": "2021-10-29T03:59:28.038368Z",
     "shell.execute_reply": "2021-10-29T03:59:28.036455Z"
    },
    "papermill": {
     "duration": 0.044404,
     "end_time": "2021-10-29T03:59:28.038473",
     "exception": false,
     "start_time": "2021-10-29T03:59:27.994069",
     "status": "completed"
    },
    "tags": []
   },
   "outputs": [
    {
     "name": "stdout",
     "output_type": "stream",
     "text": [
      "['Bank account or service' 'Consumer Loan' 'Credit card'\n",
      " 'Credit reporting' 'Debt collection' 'Money transfers' 'Mortgage'\n",
      " 'Other financial service' 'Payday loan' 'Prepaid card' 'Student loan']"
     ]
    },
    {
     "name": "stdout",
     "output_type": "stream",
     "text": [
      "\n"
     ]
    },
    {
     "name": "stdout",
     "output_type": "stream",
     "text": [
      "(array([ 0,  1,  2,  3,  4,  5,  6,  7,  8,  9, 10]), array([119,  90, 184, 242, 436,  22, 400,   2,  26,  10,  69]))"
     ]
    },
    {
     "name": "stdout",
     "output_type": "stream",
     "text": [
      "\n"
     ]
    },
    {
     "name": "stdout",
     "output_type": "stream",
     "text": [
      "(array([ 0,  1,  2,  3,  4,  5,  6,  7,  8,  9, 10]), array([ 30,  22,  46,  61, 109,   5, 100,   1,   7,   2,  17]))"
     ]
    },
    {
     "name": "stdout",
     "output_type": "stream",
     "text": [
      "\n"
     ]
    }
   ],
   "source": [
    "train_data, test_data, train_labels, test_labels,enc = ReadData(S3BucketName = os.environ[\"S3_BUCKET_NAME\"],FILE_NAME=os.environ[\"FILE_NAME\"]).ReadDataFrameData()"
   ]
  },
  {
   "cell_type": "code",
   "execution_count": 5,
   "id": "4b0a0aae-fe97-4054-88ed-c094a1e5cea3",
   "metadata": {
    "execution": {
     "iopub.execute_input": "2021-10-29T03:59:28.050975Z",
     "iopub.status.busy": "2021-10-29T03:59:28.050576Z",
     "iopub.status.idle": "2021-10-29T03:59:28.056694Z",
     "shell.execute_reply": "2021-10-29T03:59:28.056998Z"
    },
    "papermill": {
     "duration": 0.012944,
     "end_time": "2021-10-29T03:59:28.057113",
     "exception": false,
     "start_time": "2021-10-29T03:59:28.044169",
     "status": "completed"
    },
    "tags": []
   },
   "outputs": [
    {
     "data": {
      "text/plain": [
       "['labelencoder.pkl']"
      ]
     },
     "execution_count": 5,
     "metadata": {},
     "output_type": "execute_result"
    }
   ],
   "source": [
    "joblib.dump(enc, 'labelencoder.pkl')  "
   ]
  },
  {
   "cell_type": "code",
   "execution_count": 6,
   "id": "f7345fdc-d0ed-488e-abab-64ba52969552",
   "metadata": {
    "execution": {
     "iopub.execute_input": "2021-10-29T03:59:28.070257Z",
     "iopub.status.busy": "2021-10-29T03:59:28.069832Z",
     "iopub.status.idle": "2021-10-29T03:59:28.123249Z",
     "shell.execute_reply": "2021-10-29T03:59:28.122827Z"
    },
    "papermill": {
     "duration": 0.060337,
     "end_time": "2021-10-29T03:59:28.123364",
     "exception": false,
     "start_time": "2021-10-29T03:59:28.063027",
     "status": "completed"
    },
    "tags": []
   },
   "outputs": [],
   "source": [
    "from klepto.archives import file_archive\n",
    "db = file_archive('variables-step1.pkl')\n",
    "db['train_data'] = train_data\n",
    "db['test_data'] = test_data\n",
    "db['train_labels'] = train_labels\n",
    "db['test_labels'] = test_labels\n",
    "db['enc'] = enc\n",
    "db.dump()"
   ]
  },
  {
   "cell_type": "code",
   "execution_count": null,
   "id": "ffea10b2-066f-4de1-a298-e9ae641bf7f8",
   "metadata": {
    "papermill": {
     "duration": 0.006097,
     "end_time": "2021-10-29T03:59:28.135955",
     "exception": false,
     "start_time": "2021-10-29T03:59:28.129858",
     "status": "completed"
    },
    "tags": []
   },
   "outputs": [],
   "source": []
  },
  {
   "cell_type": "code",
   "execution_count": null,
   "id": "5c02264a-bdb0-4de3-af96-eded3fbe111f",
   "metadata": {
    "papermill": {
     "duration": 0.006166,
     "end_time": "2021-10-29T03:59:28.147983",
     "exception": false,
     "start_time": "2021-10-29T03:59:28.141817",
     "status": "completed"
    },
    "tags": []
   },
   "outputs": [],
   "source": []
  },
  {
   "cell_type": "code",
   "execution_count": null,
   "id": "9b56bec2-58e0-4f96-be3c-06028751dcee",
   "metadata": {
    "papermill": {
     "duration": 0.005769,
     "end_time": "2021-10-29T03:59:28.159562",
     "exception": false,
     "start_time": "2021-10-29T03:59:28.153793",
     "status": "completed"
    },
    "tags": []
   },
   "outputs": [],
   "source": []
  }
 ],
 "metadata": {
  "kernelspec": {
   "display_name": "Python 3.9 (XPython)",
   "language": "python",
   "name": "xpython"
  },
  "language_info": {
   "file_extension": ".py",
   "mimetype": "text/x-python",
   "name": "python",
   "version": "3.9.7"
  },
  "papermill": {
   "default_parameters": {},
   "duration": 1.933617,
   "end_time": "2021-10-29T03:59:28.269206",
   "environment_variables": {},
   "exception": null,
   "input_path": "/opt/app-root/src/anz_ml_project/notebooks/text_classification_notebooks/pipeline/data-loading.ipynb",
   "output_path": "/opt/app-root/src/anz_ml_project/notebooks/text_classification_notebooks/pipeline/data-loading.ipynb",
   "parameters": {},
   "start_time": "2021-10-29T03:59:26.335589",
   "version": "2.3.3"
  }
 },
 "nbformat": 4,
 "nbformat_minor": 5
}