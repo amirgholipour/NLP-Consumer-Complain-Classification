{
 "cells": [
  {
   "cell_type": "code",
   "execution_count": 1,
   "id": "ba64386d-f272-4701-8b47-26eedeb69826",
   "metadata": {
    "execution": {
     "iopub.execute_input": "2021-10-29T03:59:34.240074Z",
     "iopub.status.busy": "2021-10-29T03:59:34.239638Z",
     "iopub.status.idle": "2021-10-29T03:59:36.112482Z",
     "shell.execute_reply": "2021-10-29T03:59:36.111944Z"
    },
    "papermill": {
     "duration": 1.87801,
     "end_time": "2021-10-29T03:59:36.112607",
     "exception": false,
     "start_time": "2021-10-29T03:59:34.234597",
     "status": "completed"
    },
    "tags": []
   },
   "outputs": [],
   "source": [
    "import os\n",
    "import sys\n",
    "# sys.path is a list of absolute path strings\n",
    "sys.path.append('/opt/app-root/src/anz_ml_project/')\n",
    "\n",
    "\n",
    "from src.modules.build_model import BuildModel\n",
    "\n",
    "\n",
    "from klepto.archives import file_archive\n",
    "\n",
    "from minio import Minio\n",
    "import joblib"
   ]
  },
  {
   "cell_type": "code",
   "execution_count": 2,
   "id": "99627a8d-52a8-4b73-841b-d581f505635b",
   "metadata": {
    "execution": {
     "iopub.execute_input": "2021-10-29T03:59:36.120986Z",
     "iopub.status.busy": "2021-10-29T03:59:36.120567Z",
     "iopub.status.idle": "2021-10-29T03:59:36.315782Z",
     "shell.execute_reply": "2021-10-29T03:59:36.315327Z"
    },
    "papermill": {
     "duration": 0.199532,
     "end_time": "2021-10-29T03:59:36.315893",
     "exception": false,
     "start_time": "2021-10-29T03:59:36.116361",
     "status": "completed"
    },
    "tags": []
   },
   "outputs": [],
   "source": [
    "db1 = file_archive('variables-step2.pkl')\n",
    "db1.load()\n",
    "\n"
   ]
  },
  {
   "cell_type": "code",
   "execution_count": 3,
   "id": "de28a810-4937-4f79-9bc2-e9d20733eed6",
   "metadata": {
    "execution": {
     "iopub.execute_input": "2021-10-29T03:59:36.324177Z",
     "iopub.status.busy": "2021-10-29T03:59:36.323780Z",
     "iopub.status.idle": "2021-10-29T03:59:37.119307Z",
     "shell.execute_reply": "2021-10-29T03:59:37.104353Z"
    },
    "papermill": {
     "duration": 0.799729,
     "end_time": "2021-10-29T03:59:37.119423",
     "exception": false,
     "start_time": "2021-10-29T03:59:36.319694",
     "status": "completed"
    },
    "tags": []
   },
   "outputs": [
    {
     "name": "stdout",
     "output_type": "stream",
     "text": [
      "Model: \"sequential\""
     ]
    },
    {
     "name": "stdout",
     "output_type": "stream",
     "text": [
      "\n"
     ]
    },
    {
     "name": "stdout",
     "output_type": "stream",
     "text": [
      "_________________________________________________________________"
     ]
    },
    {
     "name": "stdout",
     "output_type": "stream",
     "text": [
      "\n"
     ]
    },
    {
     "name": "stdout",
     "output_type": "stream",
     "text": [
      "Layer (type)                 Output Shape              Param #   "
     ]
    },
    {
     "name": "stdout",
     "output_type": "stream",
     "text": [
      "\n"
     ]
    },
    {
     "name": "stdout",
     "output_type": "stream",
     "text": [
      "================================================================="
     ]
    },
    {
     "name": "stdout",
     "output_type": "stream",
     "text": [
      "\n"
     ]
    },
    {
     "name": "stdout",
     "output_type": "stream",
     "text": [
      "embedding (Embedding)        (None, 348, 50)           371650    "
     ]
    },
    {
     "name": "stdout",
     "output_type": "stream",
     "text": [
      "\n"
     ]
    },
    {
     "name": "stdout",
     "output_type": "stream",
     "text": [
      "_________________________________________________________________"
     ]
    },
    {
     "name": "stdout",
     "output_type": "stream",
     "text": [
      "\n"
     ]
    },
    {
     "name": "stdout",
     "output_type": "stream",
     "text": [
      "bidirectional (Bidirectional (None, 348, 200)          120800    "
     ]
    },
    {
     "name": "stdout",
     "output_type": "stream",
     "text": [
      "\n"
     ]
    },
    {
     "name": "stdout",
     "output_type": "stream",
     "text": [
      "_________________________________________________________________"
     ]
    },
    {
     "name": "stdout",
     "output_type": "stream",
     "text": [
      "\n"
     ]
    },
    {
     "name": "stdout",
     "output_type": "stream",
     "text": [
      "bidirectional_1 (Bidirection (None, 512)               935936    "
     ]
    },
    {
     "name": "stdout",
     "output_type": "stream",
     "text": [
      "\n"
     ]
    },
    {
     "name": "stdout",
     "output_type": "stream",
     "text": [
      "_________________________________________________________________"
     ]
    },
    {
     "name": "stdout",
     "output_type": "stream",
     "text": [
      "\n"
     ]
    },
    {
     "name": "stdout",
     "output_type": "stream",
     "text": [
      "dense (Dense)                (None, 11)                5643      "
     ]
    },
    {
     "name": "stdout",
     "output_type": "stream",
     "text": [
      "\n"
     ]
    },
    {
     "name": "stdout",
     "output_type": "stream",
     "text": [
      "================================================================="
     ]
    },
    {
     "name": "stdout",
     "output_type": "stream",
     "text": [
      "\n"
     ]
    },
    {
     "name": "stdout",
     "output_type": "stream",
     "text": [
      "Total params: 1,434,029"
     ]
    },
    {
     "name": "stdout",
     "output_type": "stream",
     "text": [
      "\n"
     ]
    },
    {
     "name": "stdout",
     "output_type": "stream",
     "text": [
      "Trainable params: 1,434,029"
     ]
    },
    {
     "name": "stdout",
     "output_type": "stream",
     "text": [
      "\n"
     ]
    },
    {
     "name": "stdout",
     "output_type": "stream",
     "text": [
      "Non-trainable params: 0"
     ]
    },
    {
     "name": "stdout",
     "output_type": "stream",
     "text": [
      "\n"
     ]
    },
    {
     "name": "stdout",
     "output_type": "stream",
     "text": [
      "_________________________________________________________________"
     ]
    },
    {
     "name": "stdout",
     "output_type": "stream",
     "text": [
      "\n"
     ]
    }
   ],
   "source": [
    "model = BuildModel(WORD_INDEX=db1['word_index'], MAX_SEQUENCE_LENGTH=db1['MAX_SEQUENCE_LENGTH'] , EMWEIGHTS=[]).SetupModel()"
   ]
  },
  {
   "cell_type": "code",
   "execution_count": 4,
   "id": "434d83ac-8506-401b-9666-d3827396f629",
   "metadata": {
    "execution": {
     "iopub.execute_input": "2021-10-29T03:59:37.139799Z",
     "iopub.status.busy": "2021-10-29T03:59:37.139371Z",
     "iopub.status.idle": "2021-10-29T03:59:37.165875Z",
     "shell.execute_reply": "2021-10-29T03:59:37.165482Z"
    },
    "papermill": {
     "duration": 0.036948,
     "end_time": "2021-10-29T03:59:37.165979",
     "exception": false,
     "start_time": "2021-10-29T03:59:37.129031",
     "status": "completed"
    },
    "tags": []
   },
   "outputs": [],
   "source": [
    "model.save('model.h5')"
   ]
  },
  {
   "cell_type": "code",
   "execution_count": null,
   "id": "cad372d4-ccd5-4d4a-95c5-79e4cd622171",
   "metadata": {
    "papermill": {
     "duration": 0.009064,
     "end_time": "2021-10-29T03:59:37.184403",
     "exception": false,
     "start_time": "2021-10-29T03:59:37.175339",
     "status": "completed"
    },
    "tags": []
   },
   "outputs": [],
   "source": []
  },
  {
   "cell_type": "code",
   "execution_count": null,
   "id": "777d6494-886b-49e3-af93-8fef78a70efe",
   "metadata": {
    "papermill": {
     "duration": 0.009179,
     "end_time": "2021-10-29T03:59:37.202714",
     "exception": false,
     "start_time": "2021-10-29T03:59:37.193535",
     "status": "completed"
    },
    "tags": []
   },
   "outputs": [],
   "source": []
  }
 ],
 "metadata": {
  "kernelspec": {
   "display_name": "Python 3.9 (XPython)",
   "language": "python",
   "name": "xpython"
  },
  "language_info": {
   "file_extension": ".py",
   "mimetype": "text/x-python",
   "name": "python",
   "version": "3.9.7"
  },
  "papermill": {
   "default_parameters": {},
   "duration": 3.96172,
   "end_time": "2021-10-29T03:59:37.319146",
   "environment_variables": {},
   "exception": null,
   "input_path": "/opt/app-root/src/anz_ml_project/notebooks/text_classification_notebooks/pipeline/design-model.ipynb",
   "output_path": "/opt/app-root/src/anz_ml_project/notebooks/text_classification_notebooks/pipeline/design-model.ipynb",
   "parameters": {},
   "start_time": "2021-10-29T03:59:33.357426",
   "version": "2.3.3"
  }
 },
 "nbformat": 4,
 "nbformat_minor": 5
}