{
 "cells": [
  {
   "cell_type": "code",
   "execution_count": 1,
   "id": "8b7610d6-0ad9-4a92-9c9f-cc38e9ae3ff7",
   "metadata": {
    "execution": {
     "iopub.execute_input": "2021-10-29T03:59:29.150918Z",
     "iopub.status.busy": "2021-10-29T03:59:29.150476Z",
     "iopub.status.idle": "2021-10-29T03:59:31.127580Z",
     "shell.execute_reply": "2021-10-29T03:59:31.127078Z"
    },
    "papermill": {
     "duration": 1.984173,
     "end_time": "2021-10-29T03:59:31.127701",
     "exception": false,
     "start_time": "2021-10-29T03:59:29.143528",
     "status": "completed"
    },
    "tags": []
   },
   "outputs": [],
   "source": [
    "import os\n",
    "import sys\n",
    "# sys.path is a list of absolute path strings\n",
    "sys.path.append('/opt/app-root/src/anz_ml_project/')\n",
    "\n",
    "from klepto.archives import file_archive\n",
    "from src.features.build_features import BuildFeatures\n",
    "import joblib"
   ]
  },
  {
   "cell_type": "code",
   "execution_count": 2,
   "id": "4ee91a38-24f4-4e5a-9d03-5f4026a0c85b",
   "metadata": {
    "execution": {
     "iopub.execute_input": "2021-10-29T03:59:31.138639Z",
     "iopub.status.busy": "2021-10-29T03:59:31.138178Z",
     "iopub.status.idle": "2021-10-29T03:59:31.333126Z",
     "shell.execute_reply": "2021-10-29T03:59:31.332721Z"
    },
    "papermill": {
     "duration": 0.200593,
     "end_time": "2021-10-29T03:59:31.333252",
     "exception": false,
     "start_time": "2021-10-29T03:59:31.132659",
     "status": "completed"
    },
    "tags": []
   },
   "outputs": [],
   "source": [
    "\n",
    "db1 = file_archive('variables-step1.pkl')\n",
    "db1.load()\n",
    "# db['train_data'] = train_data\n",
    "# db['test_data'] = test_data\n",
    "# db['train_labels'] = train_labels\n",
    "# db['test_labels'] = test_labels\n",
    "# db['enc'] = enc"
   ]
  },
  {
   "cell_type": "code",
   "execution_count": 3,
   "id": "a0a1d293-a237-4ca7-a2d2-3a255e7bd921",
   "metadata": {
    "execution": {
     "iopub.execute_input": "2021-10-29T03:59:31.344112Z",
     "iopub.status.busy": "2021-10-29T03:59:31.343696Z",
     "iopub.status.idle": "2021-10-29T03:59:31.351077Z",
     "shell.execute_reply": "2021-10-29T03:59:31.351417Z"
    },
    "papermill": {
     "duration": 0.013383,
     "end_time": "2021-10-29T03:59:31.351529",
     "exception": false,
     "start_time": "2021-10-29T03:59:31.338146",
     "status": "completed"
    },
    "tags": []
   },
   "outputs": [
    {
     "data": {
      "text/plain": [
       "1264    capital one purchased account another company ...\n",
       "1850    account 3 month included home phone high speed...\n",
       "1389    account fifth third bank used year single dedu...\n",
       "1178    since xxxxxxxx15 received phone call barley ba...\n",
       "1560    complaint response original complaint filed se...\n",
       "                              ...                        \n",
       "1992    national bank arizona service denied request l...\n",
       "1379    dear sir madam writing dispute following infor...\n",
       "28      reached however never got response unfortunate...\n",
       "1765    began told way could modify mortgage behind po...\n",
       "255     opened account bank america faithful customer ...\n",
       "Name: consumer_complaint_narrative, Length: 1600, dtype: object"
      ]
     },
     "execution_count": 3,
     "metadata": {},
     "output_type": "execute_result"
    }
   ],
   "source": [
    "db1['train_data']"
   ]
  },
  {
   "cell_type": "code",
   "execution_count": 4,
   "id": "97783ed7-0157-4839-bbb0-310e9802fc00",
   "metadata": {
    "execution": {
     "iopub.execute_input": "2021-10-29T03:59:31.362641Z",
     "iopub.status.busy": "2021-10-29T03:59:31.362188Z",
     "iopub.status.idle": "2021-10-29T03:59:31.363584Z",
     "shell.execute_reply": "2021-10-29T03:59:31.363193Z"
    },
    "papermill": {
     "duration": 0.007242,
     "end_time": "2021-10-29T03:59:31.363673",
     "exception": false,
     "start_time": "2021-10-29T03:59:31.356431",
     "status": "completed"
    },
    "tags": []
   },
   "outputs": [],
   "source": [
    "BFCLASS = BuildFeatures(TRAIN_DATA=db1['train_data'],TEST_DATA=db1['test_data'],TRAIN_LABELS=db1['train_labels'],TEST_LABELS=db1['test_labels'],S3BucketName = \"raw-data-saeed\", GloveData=\"glove.6B.50d.txt\",EMBEDDING_DIM=50, WEIGHT_FLAG = False,MLFLOW_S3_ENDPOINT_URL = \"minio-ml-workshop:9000\",AWS_ACCESS_KEY_ID='minio',AWS_SECRET_ACCESS_KEY = 'minio123',SECURE = False)"
   ]
  },
  {
   "cell_type": "code",
   "execution_count": 5,
   "id": "3f200af5-5a53-469e-90eb-525b36569df1",
   "metadata": {
    "execution": {
     "iopub.execute_input": "2021-10-29T03:59:31.377287Z",
     "iopub.status.busy": "2021-10-29T03:59:31.376744Z",
     "iopub.status.idle": "2021-10-29T03:59:31.853728Z",
     "shell.execute_reply": "2021-10-29T03:59:31.848182Z"
    },
    "papermill": {
     "duration": 0.483404,
     "end_time": "2021-10-29T03:59:31.853836",
     "exception": false,
     "start_time": "2021-10-29T03:59:31.370432",
     "status": "completed"
    },
    "tags": []
   },
   "outputs": [
    {
     "name": "stdout",
     "output_type": "stream",
     "text": [
      "Maximum Sequence length is 348 ."
     ]
    },
    {
     "name": "stdout",
     "output_type": "stream",
     "text": [
      "\n"
     ]
    },
    {
     "name": "stdout",
     "output_type": "stream",
     "text": [
      "Found 7432 unique tokens."
     ]
    },
    {
     "name": "stdout",
     "output_type": "stream",
     "text": [
      "\n"
     ]
    },
    {
     "name": "stdout",
     "output_type": "stream",
     "text": [
      "Shape of train data tensor:"
     ]
    },
    {
     "name": "stdout",
     "output_type": "stream",
     "text": [
      " "
     ]
    },
    {
     "name": "stdout",
     "output_type": "stream",
     "text": [
      "(1600, 348)"
     ]
    },
    {
     "name": "stdout",
     "output_type": "stream",
     "text": [
      "\n"
     ]
    },
    {
     "name": "stdout",
     "output_type": "stream",
     "text": [
      "Shape of train label tensor:"
     ]
    },
    {
     "name": "stdout",
     "output_type": "stream",
     "text": [
      " "
     ]
    },
    {
     "name": "stdout",
     "output_type": "stream",
     "text": [
      "(1600, 11)"
     ]
    },
    {
     "name": "stdout",
     "output_type": "stream",
     "text": [
      "\n"
     ]
    },
    {
     "name": "stdout",
     "output_type": "stream",
     "text": [
      "Shape of test label tensor:"
     ]
    },
    {
     "name": "stdout",
     "output_type": "stream",
     "text": [
      " "
     ]
    },
    {
     "name": "stdout",
     "output_type": "stream",
     "text": [
      "(400, 11)"
     ]
    },
    {
     "name": "stdout",
     "output_type": "stream",
     "text": [
      "\n"
     ]
    }
   ],
   "source": [
    "train_data,test_data,train_labels , test_labels,word_index,tokenizer,MAX_SEQUENCE_LENGTH = BFCLASS.PreProcessingTextData()"
   ]
  },
  {
   "cell_type": "code",
   "execution_count": 6,
   "id": "fb193493-bf31-435e-b63e-98a83a79e71c",
   "metadata": {
    "execution": {
     "iopub.execute_input": "2021-10-29T03:59:31.870981Z",
     "iopub.status.busy": "2021-10-29T03:59:31.870577Z",
     "iopub.status.idle": "2021-10-29T03:59:32.025702Z",
     "shell.execute_reply": "2021-10-29T03:59:32.025311Z"
    },
    "papermill": {
     "duration": 0.163849,
     "end_time": "2021-10-29T03:59:32.025809",
     "exception": false,
     "start_time": "2021-10-29T03:59:31.861960",
     "status": "completed"
    },
    "tags": []
   },
   "outputs": [
    {
     "data": {
      "text/plain": [
       "['tokenizer.pkl']"
      ]
     },
     "execution_count": 6,
     "metadata": {},
     "output_type": "execute_result"
    }
   ],
   "source": [
    "joblib.dump(tokenizer, 'tokenizer.pkl')  "
   ]
  },
  {
   "cell_type": "code",
   "execution_count": 7,
   "id": "0543243d-2a51-43a7-a2ad-944e60c4da79",
   "metadata": {
    "execution": {
     "iopub.execute_input": "2021-10-29T03:59:32.045894Z",
     "iopub.status.busy": "2021-10-29T03:59:32.045474Z",
     "iopub.status.idle": "2021-10-29T03:59:32.192315Z",
     "shell.execute_reply": "2021-10-29T03:59:32.191879Z"
    },
    "papermill": {
     "duration": 0.156424,
     "end_time": "2021-10-29T03:59:32.192431",
     "exception": false,
     "start_time": "2021-10-29T03:59:32.036007",
     "status": "completed"
    },
    "tags": []
   },
   "outputs": [],
   "source": [
    "from klepto.archives import file_archive\n",
    "db = file_archive('variables-step2.pkl')\n",
    "db['train_data'] = train_data\n",
    "db['test_data'] = test_data\n",
    "db['train_labels'] = train_labels\n",
    "db['test_labels'] = test_labels\n",
    "\n",
    "db['word_index'] = word_index\n",
    "db['MAX_SEQUENCE_LENGTH'] = MAX_SEQUENCE_LENGTH\n",
    "db['tokenizer'] = tokenizer\n",
    "db['enc'] = db1['enc']\n",
    "db.dump()"
   ]
  },
  {
   "cell_type": "code",
   "execution_count": null,
   "id": "793628d9-aff5-4d81-8942-bd82a65fc7aa",
   "metadata": {
    "papermill": {
     "duration": 0.007866,
     "end_time": "2021-10-29T03:59:32.208509",
     "exception": false,
     "start_time": "2021-10-29T03:59:32.200643",
     "status": "completed"
    },
    "tags": []
   },
   "outputs": [],
   "source": []
  },
  {
   "cell_type": "code",
   "execution_count": null,
   "id": "03c39100-a88a-4d10-83b3-3ee659a0004d",
   "metadata": {
    "papermill": {
     "duration": 0.007749,
     "end_time": "2021-10-29T03:59:32.224073",
     "exception": false,
     "start_time": "2021-10-29T03:59:32.216324",
     "status": "completed"
    },
    "tags": []
   },
   "outputs": [],
   "source": []
  }
 ],
 "metadata": {
  "kernelspec": {
   "display_name": "Python 3.9 (XPython)",
   "language": "python",
   "name": "xpython"
  },
  "language_info": {
   "file_extension": ".py",
   "mimetype": "text/x-python",
   "name": "python",
   "version": "3.9.7"
  },
  "papermill": {
   "default_parameters": {},
   "duration": 5.033759,
   "end_time": "2021-10-29T03:59:33.327254",
   "environment_variables": {},
   "exception": null,
   "input_path": "/opt/app-root/src/anz_ml_project/notebooks/text_classification_notebooks/pipeline/data-preprocessing.ipynb",
   "output_path": "/opt/app-root/src/anz_ml_project/notebooks/text_classification_notebooks/pipeline/data-preprocessing.ipynb",
   "parameters": {},
   "start_time": "2021-10-29T03:59:28.293495",
   "version": "2.3.3"
  }
 },
 "nbformat": 4,
 "nbformat_minor": 5
}