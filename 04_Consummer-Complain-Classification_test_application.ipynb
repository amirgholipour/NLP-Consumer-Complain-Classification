{
 "cells": [
  {
   "cell_type": "markdown",
   "metadata": {},
   "source": [
    "## Test Flask App\n",
    "From the other notebook, `03_ISeg_run_application.ipynb`, the flask app is running and ready to serve requests using python http or `curl` statements."
   ]
  },
  {
   "cell_type": "markdown",
   "metadata": {},
   "source": [
    "We can start by testing that the server is indeed running:"
   ]
  },
  {
   "cell_type": "code",
   "execution_count": 1,
   "metadata": {
    "ExecuteTime": {
     "end_time": "2021-04-13T20:19:12.719421Z",
     "start_time": "2021-04-13T20:19:12.076099Z"
    },
    "scrolled": true
   },
   "outputs": [
    {
     "name": "stdout",
     "output_type": "stream",
     "text": [
      "{\n",
      "  \"status\": \"ok\"\n",
      "}\n"
     ]
    }
   ],
   "source": [
    "!curl http://localhost:5000/status"
   ]
  },
  {
   "cell_type": "markdown",
   "metadata": {},
   "source": [
    "Now we can use curl to send the name of an image, and wait for the result:"
   ]
  },
  {
   "cell_type": "code",
   "execution_count": 3,
   "metadata": {
    "ExecuteTime": {
     "end_time": "2021-04-13T20:19:54.309066Z",
     "start_time": "2021-04-13T20:19:49.337731Z"
    }
   },
   "outputs": [
    {
     "name": "stdout",
     "output_type": "stream",
     "text": [
      "<!DOCTYPE HTML PUBLIC \"-//W3C//DTD HTML 4.01 Transitional//EN\"\n",
      "  \"http://www.w3.org/TR/html4/loose.dtd\">\n",
      "<html>\n",
      "  <head>\n",
      "    <title>cv2.error: OpenCV(4.5.5) /io/opencv/modules/imgproc/src/color.cpp:182: error: (-215:Assertion failed) !_src.empty() in function &#x27;cvtColor&#x27; // Werkzeug Debugger</title>\n",
      "    <link rel=\"stylesheet\" href=\"?__debugger__=yes&amp;cmd=resource&amp;f=style.css\"\n",
      "        type=\"text/css\">\n",
      "    <!-- We need to make sure this has a favicon so that the debugger does\n",
      "         not accidentally trigger a request to /favicon.ico which might\n",
      "         change the application's state. -->\n",
      "    <link rel=\"shortcut icon\"\n",
      "        href=\"?__debugger__=yes&amp;cmd=resource&amp;f=console.png\">\n",
      "    <script src=\"?__debugger__=yes&amp;cmd=resource&amp;f=debugger.js\"></script>\n",
      "    <script type=\"text/javascript\">\n",
      "      var TRACEBACK = 140212228389904,\n",
      "          CONSOLE_MODE = false,\n",
      "          EVALEX = true,\n",
      "          EVALEX_TRUSTED = false,\n",
      "          SECRET = \"aSTsybVsNYLuzNg5OBxk\";\n",
      "    </script>\n",
      "  </head>\n",
      "  <body style=\"background-color: #fff\">\n",
      "    <div class=\"debugger\">\n",
      "<h1>cv2.error</h1>\n",
      "<div class=\"detail\">\n",
      "  <p class=\"errormsg\">cv2.error: OpenCV(4.5.5) /io/opencv/modules/imgproc/src/color.cpp:182: error: (-215:Assertion failed) !_src.empty() in function &#x27;cvtColor&#x27;</p>\n",
      "</div>\n",
      "<h2 class=\"traceback\">Traceback <em>(most recent call last)</em></h2>\n",
      "<div class=\"traceback\">\n",
      "  <h3></h3>\n",
      "  <ul><li><div class=\"frame\" id=\"frame-140212228387408\">\n",
      "  <h4>File <cite class=\"filename\">\"/opt/app-root/lib/python3.8/site-packages/flask/app.py\"</cite>,\n",
      "      line <em class=\"line\">2091</em>,\n",
      "      in <code class=\"function\">__call__</code></h4>\n",
      "  <div class=\"source \"><pre class=\"line before\"><span class=\"ws\">    </span>def __call__(self, environ: dict, start_response: t.Callable) -&gt; t.Any:</pre>\n",
      "<pre class=\"line before\"><span class=\"ws\">        </span>&quot;&quot;&quot;The WSGI server calls the Flask application object as the</pre>\n",
      "<pre class=\"line before\"><span class=\"ws\">        </span>WSGI application. This calls :meth:`wsgi_app`, which can be</pre>\n",
      "<pre class=\"line before\"><span class=\"ws\">        </span>wrapped to apply middleware.</pre>\n",
      "<pre class=\"line before\"><span class=\"ws\">        </span>&quot;&quot;&quot;</pre>\n",
      "<pre class=\"line current\"><span class=\"ws\">        </span>return self.wsgi_app(environ, start_response)</pre></div>\n",
      "</div>\n",
      "\n",
      "<li><div class=\"frame\" id=\"frame-140212228389232\">\n",
      "  <h4>File <cite class=\"filename\">\"/opt/app-root/lib/python3.8/site-packages/flask/app.py\"</cite>,\n",
      "      line <em class=\"line\">2076</em>,\n",
      "      in <code class=\"function\">wsgi_app</code></h4>\n",
      "  <div class=\"source \"><pre class=\"line before\"><span class=\"ws\">            </span>try:</pre>\n",
      "<pre class=\"line before\"><span class=\"ws\">                </span>ctx.push()</pre>\n",
      "<pre class=\"line before\"><span class=\"ws\">                </span>response = self.full_dispatch_request()</pre>\n",
      "<pre class=\"line before\"><span class=\"ws\">            </span>except Exception as e:</pre>\n",
      "<pre class=\"line before\"><span class=\"ws\">                </span>error = e</pre>\n",
      "<pre class=\"line current\"><span class=\"ws\">                </span>response = self.handle_exception(e)</pre>\n",
      "<pre class=\"line after\"><span class=\"ws\">            </span>except:  # noqa: B001</pre>\n",
      "<pre class=\"line after\"><span class=\"ws\">                </span>error = sys.exc_info()[1]</pre>\n",
      "<pre class=\"line after\"><span class=\"ws\">                </span>raise</pre>\n",
      "<pre class=\"line after\"><span class=\"ws\">            </span>return response(environ, start_response)</pre>\n",
      "<pre class=\"line after\"><span class=\"ws\">        </span>finally:</pre></div>\n",
      "</div>\n",
      "\n",
      "<li><div class=\"frame\" id=\"frame-140212228387744\">\n",
      "  <h4>File <cite class=\"filename\">\"/opt/app-root/lib/python3.8/site-packages/flask/app.py\"</cite>,\n",
      "      line <em class=\"line\">2073</em>,\n",
      "      in <code class=\"function\">wsgi_app</code></h4>\n",
      "  <div class=\"source \"><pre class=\"line before\"><span class=\"ws\">        </span>ctx = self.request_context(environ)</pre>\n",
      "<pre class=\"line before\"><span class=\"ws\">        </span>error: t.Optional[BaseException] = None</pre>\n",
      "<pre class=\"line before\"><span class=\"ws\">        </span>try:</pre>\n",
      "<pre class=\"line before\"><span class=\"ws\">            </span>try:</pre>\n",
      "<pre class=\"line before\"><span class=\"ws\">                </span>ctx.push()</pre>\n",
      "<pre class=\"line current\"><span class=\"ws\">                </span>response = self.full_dispatch_request()</pre>\n",
      "<pre class=\"line after\"><span class=\"ws\">            </span>except Exception as e:</pre>\n",
      "<pre class=\"line after\"><span class=\"ws\">                </span>error = e</pre>\n",
      "<pre class=\"line after\"><span class=\"ws\">                </span>response = self.handle_exception(e)</pre>\n",
      "<pre class=\"line after\"><span class=\"ws\">            </span>except:  # noqa: B001</pre>\n",
      "<pre class=\"line after\"><span class=\"ws\">                </span>error = sys.exc_info()[1]</pre></div>\n",
      "</div>\n",
      "\n",
      "<li><div class=\"frame\" id=\"frame-140212228390288\">\n",
      "  <h4>File <cite class=\"filename\">\"/opt/app-root/lib/python3.8/site-packages/flask/app.py\"</cite>,\n",
      "      line <em class=\"line\">1518</em>,\n",
      "      in <code class=\"function\">full_dispatch_request</code></h4>\n",
      "  <div class=\"source \"><pre class=\"line before\"><span class=\"ws\">            </span>request_started.send(self)</pre>\n",
      "<pre class=\"line before\"><span class=\"ws\">            </span>rv = self.preprocess_request()</pre>\n",
      "<pre class=\"line before\"><span class=\"ws\">            </span>if rv is None:</pre>\n",
      "<pre class=\"line before\"><span class=\"ws\">                </span>rv = self.dispatch_request()</pre>\n",
      "<pre class=\"line before\"><span class=\"ws\">        </span>except Exception as e:</pre>\n",
      "<pre class=\"line current\"><span class=\"ws\">            </span>rv = self.handle_user_exception(e)</pre>\n",
      "<pre class=\"line after\"><span class=\"ws\">        </span>return self.finalize_request(rv)</pre>\n",
      "<pre class=\"line after\"><span class=\"ws\"></span> </pre>\n",
      "<pre class=\"line after\"><span class=\"ws\">    </span>def finalize_request(</pre>\n",
      "<pre class=\"line after\"><span class=\"ws\">        </span>self,</pre>\n",
      "<pre class=\"line after\"><span class=\"ws\">        </span>rv: t.Union[ResponseReturnValue, HTTPException],</pre></div>\n",
      "</div>\n",
      "\n",
      "<li><div class=\"frame\" id=\"frame-140212228390336\">\n",
      "  <h4>File <cite class=\"filename\">\"/opt/app-root/lib/python3.8/site-packages/flask/app.py\"</cite>,\n",
      "      line <em class=\"line\">1516</em>,\n",
      "      in <code class=\"function\">full_dispatch_request</code></h4>\n",
      "  <div class=\"source \"><pre class=\"line before\"><span class=\"ws\">        </span>self.try_trigger_before_first_request_functions()</pre>\n",
      "<pre class=\"line before\"><span class=\"ws\">        </span>try:</pre>\n",
      "<pre class=\"line before\"><span class=\"ws\">            </span>request_started.send(self)</pre>\n",
      "<pre class=\"line before\"><span class=\"ws\">            </span>rv = self.preprocess_request()</pre>\n",
      "<pre class=\"line before\"><span class=\"ws\">            </span>if rv is None:</pre>\n",
      "<pre class=\"line current\"><span class=\"ws\">                </span>rv = self.dispatch_request()</pre>\n",
      "<pre class=\"line after\"><span class=\"ws\">        </span>except Exception as e:</pre>\n",
      "<pre class=\"line after\"><span class=\"ws\">            </span>rv = self.handle_user_exception(e)</pre>\n",
      "<pre class=\"line after\"><span class=\"ws\">        </span>return self.finalize_request(rv)</pre>\n",
      "<pre class=\"line after\"><span class=\"ws\"></span> </pre>\n",
      "<pre class=\"line after\"><span class=\"ws\">    </span>def finalize_request(</pre></div>\n",
      "</div>\n",
      "\n",
      "<li><div class=\"frame\" id=\"frame-140212228388080\">\n",
      "  <h4>File <cite class=\"filename\">\"/opt/app-root/lib/python3.8/site-packages/flask/app.py\"</cite>,\n",
      "      line <em class=\"line\">1502</em>,\n",
      "      in <code class=\"function\">dispatch_request</code></h4>\n",
      "  <div class=\"source \"><pre class=\"line before\"><span class=\"ws\">            </span>getattr(rule, &quot;provide_automatic_options&quot;, False)</pre>\n",
      "<pre class=\"line before\"><span class=\"ws\">            </span>and req.method == &quot;OPTIONS&quot;</pre>\n",
      "<pre class=\"line before\"><span class=\"ws\">        </span>):</pre>\n",
      "<pre class=\"line before\"><span class=\"ws\">            </span>return self.make_default_options_response()</pre>\n",
      "<pre class=\"line before\"><span class=\"ws\">        </span># otherwise dispatch to the handler for that endpoint</pre>\n",
      "<pre class=\"line current\"><span class=\"ws\">        </span>return self.ensure_sync(self.view_functions[rule.endpoint])(**req.view_args)</pre>\n",
      "<pre class=\"line after\"><span class=\"ws\"></span> </pre>\n",
      "<pre class=\"line after\"><span class=\"ws\">    </span>def full_dispatch_request(self) -&gt; Response:</pre>\n",
      "<pre class=\"line after\"><span class=\"ws\">        </span>&quot;&quot;&quot;Dispatches the request and on top of that performs request</pre>\n",
      "<pre class=\"line after\"><span class=\"ws\">        </span>pre and postprocessing as well as HTTP exception catching and</pre>\n",
      "<pre class=\"line after\"><span class=\"ws\">        </span>error handling.</pre></div>\n",
      "</div>\n",
      "\n",
      "<li><div class=\"frame\" id=\"frame-140212228388656\">\n",
      "  <h4>File <cite class=\"filename\">\"/opt/app-root/src/image-segmentation/wsgi.py\"</cite>,\n",
      "      line <em class=\"line\">18</em>,\n",
      "      in <code class=\"function\">object_detection</code></h4>\n",
      "  <div class=\"source \"><pre class=\"line before\"><span class=\"ws\"></span> </pre>\n",
      "<pre class=\"line before\"><span class=\"ws\"></span>@application.route(&#x27;/predictions&#x27;, methods=[&#x27;POST&#x27;])</pre>\n",
      "<pre class=\"line before\"><span class=\"ws\"></span>def object_detection():</pre>\n",
      "<pre class=\"line before\"><span class=\"ws\">    </span>data = request.data or &#x27;{}&#x27;</pre>\n",
      "<pre class=\"line before\"><span class=\"ws\">    </span>body = json.loads(data)</pre>\n",
      "<pre class=\"line current\"><span class=\"ws\">    </span>return jsonify(predict(body))</pre></div>\n",
      "</div>\n",
      "\n",
      "<li><div class=\"frame\" id=\"frame-140212228388896\">\n",
      "  <h4>File <cite class=\"filename\">\"/opt/app-root/src/image-segmentation/prediction.py\"</cite>,\n",
      "      line <em class=\"line\">140</em>,\n",
      "      in <code class=\"function\">predict</code></h4>\n",
      "  <div class=\"source \"><pre class=\"line before\"><span class=\"ws\"></span>def predict(args_dict):</pre>\n",
      "<pre class=\"line before\"><span class=\"ws\">    </span>if args_dict.get(&#x27;image&#x27;) is not None:</pre>\n",
      "<pre class=\"line before\"><span class=\"ws\">        </span>pred_mask = process_base64_image(args_dict)</pre>\n",
      "<pre class=\"line before\"><span class=\"ws\">    </span>else:</pre>\n",
      "<pre class=\"line before\"><span class=\"ws\">        </span>filename = os.path.join(&#x27;dataset/images&#x27;, args_dict.get(&#x27;data&#x27;))</pre>\n",
      "<pre class=\"line current\"><span class=\"ws\">        </span>pred_mask = process_file(filename)</pre>\n",
      "<pre class=\"line after\"><span class=\"ws\">    </span>return {&#x27;pred_mask&#x27;: pred_mask}</pre></div>\n",
      "</div>\n",
      "\n",
      "<li><div class=\"frame\" id=\"frame-140212228388848\">\n",
      "  <h4>File <cite class=\"filename\">\"/opt/app-root/src/image-segmentation/prediction.py\"</cite>,\n",
      "      line <em class=\"line\">116</em>,\n",
      "      in <code class=\"function\">process_file</code></h4>\n",
      "  <div class=\"source \"><pre class=\"line before\"><span class=\"ws\"></span> </pre>\n",
      "<pre class=\"line before\"><span class=\"ws\"></span> </pre>\n",
      "<pre class=\"line before\"><span class=\"ws\"></span> </pre>\n",
      "<pre class=\"line before\"><span class=\"ws\"></span>def process_file(filename):</pre>\n",
      "<pre class=\"line before\"><span class=\"ws\">    </span>if filename.endswith(&quot;.jpg&quot;) or filename.endswith(&quot;.jpeg&quot;) or filename.endswith(&quot;.png&quot;):</pre>\n",
      "<pre class=\"line current\"><span class=\"ws\">        </span>pred_mask = get_segmentation(filename)</pre>\n",
      "<pre class=\"line after\"><span class=\"ws\">    </span>else:</pre>\n",
      "<pre class=\"line after\"><span class=\"ws\">        </span>pred_mask = &#x27;This is not a valid image file&#x27;</pre>\n",
      "<pre class=\"line after\"><span class=\"ws\">        </span>print(pred_mask)</pre>\n",
      "<pre class=\"line after\"><span class=\"ws\">    </span>return pred_mask</pre>\n",
      "<pre class=\"line after\"><span class=\"ws\"></span> </pre></div>\n",
      "</div>\n",
      "\n",
      "<li><div class=\"frame\" id=\"frame-140212228390576\">\n",
      "  <h4>File <cite class=\"filename\">\"/opt/app-root/src/image-segmentation/prediction.py\"</cite>,\n",
      "      line <em class=\"line\">107</em>,\n",
      "      in <code class=\"function\">get_segmentation</code></h4>\n",
      "  <div class=\"source \"><pre class=\"line before\"><span class=\"ws\"></span> </pre>\n",
      "<pre class=\"line before\"><span class=\"ws\"></span>##############################################################################</pre>\n",
      "<pre class=\"line before\"><span class=\"ws\"></span># Returns the image of the car (vehicle) and the Licence plate image (LpImg) #</pre>\n",
      "<pre class=\"line before\"><span class=\"ws\"></span>##############################################################################</pre>\n",
      "<pre class=\"line before\"><span class=\"ws\"></span>def get_segmentation(image_path, Dmax=608, Dmin = 608):</pre>\n",
      "<pre class=\"line current\"><span class=\"ws\">    </span>vehicle = preprocess_image(image_path)</pre>\n",
      "<pre class=\"line after\"><span class=\"ws\">    </span>pred_mask = img_seg_net(wpod_net, vehicle, bound_dim, lp_threshold=0.5)</pre>\n",
      "<pre class=\"line after\"><span class=\"ws\">    </span>os.remove(vehicle)</pre>\n",
      "<pre class=\"line after\"><span class=\"ws\">    </span>return pred_mask</pre>\n",
      "<pre class=\"line after\"><span class=\"ws\"></span> </pre>\n",
      "<pre class=\"line after\"><span class=\"ws\"></span> </pre></div>\n",
      "</div>\n",
      "\n",
      "<li><div class=\"frame\" id=\"frame-140212228390816\">\n",
      "  <h4>File <cite class=\"filename\">\"/opt/app-root/src/image-segmentation/prediction.py\"</cite>,\n",
      "      line <em class=\"line\">48</em>,\n",
      "      in <code class=\"function\">preprocess_image</code></h4>\n",
      "  <div class=\"source \"><pre class=\"line before\"><span class=\"ws\"></span># Converts colors from BGR (as read by OpenCV) to RGB (so that we can display them), #</pre>\n",
      "<pre class=\"line before\"><span class=\"ws\"></span># also eventually resizes the image to fit the size the model has been trained on    #</pre>\n",
      "<pre class=\"line before\"><span class=\"ws\"></span>######################################################################################</pre>\n",
      "<pre class=\"line before\"><span class=\"ws\"></span>def preprocess_image(image_path,resize=False):</pre>\n",
      "<pre class=\"line before\"><span class=\"ws\">    </span>img = cv2.imread(image_path)</pre>\n",
      "<pre class=\"line current\"><span class=\"ws\">    </span>img = cv2.cvtColor(img, cv2.COLOR_BGR2RGB)</pre>\n",
      "<pre class=\"line after\"><span class=\"ws\">    </span>img = img / 255</pre>\n",
      "<pre class=\"line after\"><span class=\"ws\">    </span>if resize:</pre>\n",
      "<pre class=\"line after\"><span class=\"ws\">        </span>img = cv2.resize(img, (128,128))</pre>\n",
      "<pre class=\"line after\"><span class=\"ws\">    </span>return img</pre>\n",
      "<pre class=\"line after\"><span class=\"ws\"></span> </pre></div>\n",
      "</div>\n",
      "</ul>\n",
      "  <blockquote>cv2.error: OpenCV(4.5.5) /io/opencv/modules/imgproc/src/color.cpp:182: error: (-215:Assertion failed) !_src.empty() in function &#x27;cvtColor&#x27;</blockquote>\n",
      "</div>\n",
      "\n",
      "<div class=\"plain\">\n",
      "    <p>\n",
      "      This is the Copy/Paste friendly version of the traceback.\n",
      "    </p>\n",
      "    <textarea cols=\"50\" rows=\"10\" name=\"code\" readonly>Traceback (most recent call last):\n",
      "  File &quot;/opt/app-root/lib/python3.8/site-packages/flask/app.py&quot;, line 2091, in __call__\n",
      "    return self.wsgi_app(environ, start_response)\n",
      "  File &quot;/opt/app-root/lib/python3.8/site-packages/flask/app.py&quot;, line 2076, in wsgi_app\n",
      "    response = self.handle_exception(e)\n",
      "  File &quot;/opt/app-root/lib/python3.8/site-packages/flask/app.py&quot;, line 2073, in wsgi_app\n",
      "    response = self.full_dispatch_request()\n",
      "  File &quot;/opt/app-root/lib/python3.8/site-packages/flask/app.py&quot;, line 1518, in full_dispatch_request\n",
      "    rv = self.handle_user_exception(e)\n",
      "  File &quot;/opt/app-root/lib/python3.8/site-packages/flask/app.py&quot;, line 1516, in full_dispatch_request\n",
      "    rv = self.dispatch_request()\n",
      "  File &quot;/opt/app-root/lib/python3.8/site-packages/flask/app.py&quot;, line 1502, in dispatch_request\n",
      "    return self.ensure_sync(self.view_functions[rule.endpoint])(**req.view_args)\n",
      "  File &quot;/opt/app-root/src/image-segmentation/wsgi.py&quot;, line 18, in object_detection\n",
      "    return jsonify(predict(body))\n",
      "  File &quot;/opt/app-root/src/image-segmentation/prediction.py&quot;, line 140, in predict\n",
      "    pred_mask = process_file(filename)\n",
      "  File &quot;/opt/app-root/src/image-segmentation/prediction.py&quot;, line 116, in process_file\n",
      "    pred_mask = get_segmentation(filename)\n",
      "  File &quot;/opt/app-root/src/image-segmentation/prediction.py&quot;, line 107, in get_segmentation\n",
      "    vehicle = preprocess_image(image_path)\n",
      "  File &quot;/opt/app-root/src/image-segmentation/prediction.py&quot;, line 48, in preprocess_image\n",
      "    img = cv2.cvtColor(img, cv2.COLOR_BGR2RGB)\n",
      "cv2.error: OpenCV(4.5.5) /io/opencv/modules/imgproc/src/color.cpp:182: error: (-215:Assertion failed) !_src.empty() in function &#x27;cvtColor&#x27;</textarea>\n",
      "</div>\n",
      "<div class=\"explanation\">\n",
      "  The debugger caught an exception in your WSGI application.  You can now\n",
      "  look at the traceback which led to the error.  <span class=\"nojavascript\">\n",
      "  If you enable JavaScript you can also use additional features such as code\n",
      "  execution (if the evalex feature is enabled), automatic pasting of the\n",
      "  exceptions and much more.</span>\n",
      "</div>\n",
      "      <div class=\"footer\">\n",
      "        Brought to you by <strong class=\"arthur\">DON'T PANIC</strong>, your\n",
      "        friendly Werkzeug powered traceback interpreter.\n",
      "      </div>\n",
      "    </div>\n",
      "\n",
      "    <div class=\"pin-prompt\">\n",
      "      <div class=\"inner\">\n",
      "        <h3>Console Locked</h3>\n",
      "        <p>\n",
      "          The console is locked and needs to be unlocked by entering the PIN.\n",
      "          You can find the PIN printed out on the standard output of your\n",
      "          shell that runs the server.\n",
      "        <form>\n",
      "          <p>PIN:\n",
      "            <input type=text name=pin size=14>\n",
      "            <input type=submit name=btn value=\"Confirm Pin\">\n",
      "        </form>\n",
      "      </div>\n",
      "    </div>\n",
      "  </body>\n",
      "</html>\n",
      "\n",
      "<!--\n",
      "\n",
      "Traceback (most recent call last):\n",
      "  File \"/opt/app-root/lib/python3.8/site-packages/flask/app.py\", line 2091, in __call__\n",
      "    return self.wsgi_app(environ, start_response)\n",
      "  File \"/opt/app-root/lib/python3.8/site-packages/flask/app.py\", line 2076, in wsgi_app\n",
      "    response = self.handle_exception(e)\n",
      "  File \"/opt/app-root/lib/python3.8/site-packages/flask/app.py\", line 2073, in wsgi_app\n",
      "    response = self.full_dispatch_request()\n",
      "  File \"/opt/app-root/lib/python3.8/site-packages/flask/app.py\", line 1518, in full_dispatch_request\n",
      "    rv = self.handle_user_exception(e)\n",
      "  File \"/opt/app-root/lib/python3.8/site-packages/flask/app.py\", line 1516, in full_dispatch_request\n",
      "    rv = self.dispatch_request()\n",
      "  File \"/opt/app-root/lib/python3.8/site-packages/flask/app.py\", line 1502, in dispatch_request\n",
      "    return self.ensure_sync(self.view_functions[rule.endpoint])(**req.view_args)\n",
      "  File \"/opt/app-root/src/image-segmentation/wsgi.py\", line 18, in object_detection\n",
      "    return jsonify(predict(body))\n",
      "  File \"/opt/app-root/src/image-segmentation/prediction.py\", line 140, in predict\n",
      "    pred_mask = process_file(filename)\n",
      "  File \"/opt/app-root/src/image-segmentation/prediction.py\", line 116, in process_file\n",
      "    pred_mask = get_segmentation(filename)\n",
      "  File \"/opt/app-root/src/image-segmentation/prediction.py\", line 107, in get_segmentation\n",
      "    vehicle = preprocess_image(image_path)\n",
      "  File \"/opt/app-root/src/image-segmentation/prediction.py\", line 48, in preprocess_image\n",
      "    img = cv2.cvtColor(img, cv2.COLOR_BGR2RGB)\n",
      "cv2.error: OpenCV(4.5.5) /io/opencv/modules/imgproc/src/color.cpp:182: error: (-215:Assertion failed) !_src.empty() in function 'cvtColor'\n",
      "\n",
      "-->\n"
     ]
    }
   ],
   "source": [
    "!curl -X POST -H \"Content-Type: application/json\" --data '{\"data\": \"sample_1.jpg\"}' http://localhost:5000/predictions"
   ]
  },
  {
   "cell_type": "markdown",
   "metadata": {},
   "source": [
    "We could also do it using pure Python code:"
   ]
  },
  {
   "cell_type": "code",
   "execution_count": 2,
   "metadata": {
    "ExecuteTime": {
     "end_time": "2021-04-13T20:20:35.813968Z",
     "start_time": "2021-04-13T20:20:34.089627Z"
    }
   },
   "outputs": [],
   "source": [
    "import requests\n",
    "import json\n",
    "response = requests.post('http://127.0.0.1:5000/predictions', '{\"data\": \"sample_1.jpg\"}')\n",
    "#response.json()['pred_mask']\n"
   ]
  },
  {
   "cell_type": "code",
   "execution_count": 3,
   "metadata": {},
   "outputs": [
    {
     "data": {
      "text/plain": [
       "<matplotlib.image.AxesImage at 0x7effa44d7be0>"
      ]
     },
     "execution_count": 3,
     "metadata": {},
     "output_type": "execute_result"
    },
    {
     "data": {
      "image/png": "[encoded data removed]",
      "text/plain": [
       "<Figure size 432x288 with 1 Axes>"
      ]
     },
     "metadata": {
      "needs_background": "light"
     },
     "output_type": "display_data"
    }
   ],
   "source": [
    "import matplotlib.pyplot as plt\n",
    "import numpy as np\n",
    "plt.imshow(np.array(response.json()['pred_mask']))"
   ]
  },
  {
   "cell_type": "code",
   "execution_count": 25,
   "metadata": {},
   "outputs": [
    {
     "data": {
      "text/plain": [
       "<Response [200]>"
      ]
     },
     "execution_count": 25,
     "metadata": {},
     "output_type": "execute_result"
    }
   ],
   "source": [
    "response"
   ]
  },
  {
   "cell_type": "markdown",
   "metadata": {},
   "source": [
    "You can experiment with other images that you will find inside the dataset/images folder.\n",
    "If you want, you can even upload your own images in this folder and make some experiments!\n",
    "\n",
    "When you're finished, you can go back to the instuctions for the conclusion of this workshop."
   ]
  }
 ],
 "metadata": {
  "accelerator": "GPU",
  "colab": {
   "collapsed_sections": [],
   "name": "Object detection",
   "private_outputs": true,
   "provenance": [],
   "toc_visible": true
  },
  "finalized": {
   "timestamp": 1618345401677,
   "trusted": true
  },
  "kernelspec": {
   "display_name": "Python 3 (ipykernel)",
   "language": "python",
   "name": "python3"
  },
  "language_info": {
   "codemirror_mode": {
    "name": "ipython",
    "version": 3
   },
   "file_extension": ".py",
   "mimetype": "text/x-python",
   "name": "python",
   "nbconvert_exporter": "python",
   "pygments_lexer": "ipython3",
   "version": "3.8.8"
  },
  "toc": {
   "base_numbering": 1,
   "nav_menu": {},
   "number_sections": true,
   "sideBar": true,
   "skip_h1_title": false,
   "title_cell": "Table of Contents",
   "title_sidebar": "Contents",
   "toc_cell": false,
   "toc_position": {},
   "toc_section_display": true,
   "toc_window_display": false
  }
 },
 "nbformat": 4,
 "nbformat_minor": 4
}
