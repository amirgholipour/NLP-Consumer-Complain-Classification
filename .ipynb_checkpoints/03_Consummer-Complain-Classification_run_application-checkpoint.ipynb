{
 "cells": [
  {
   "cell_type": "markdown",
   "metadata": {},
   "source": [
    "## Flask\n",
    "Our API will be served directly from our container using Flask, a popular Python Web Server.\n",
    "The Flask application, which will call our prediction function, is defined in the `wsgi.py` file."
   ]
  },
  {
   "cell_type": "markdown",
   "metadata": {},
   "source": [
    "As always, we'll first run some imports to make sure all our requirements are there:"
   ]
  },
  {
   "cell_type": "code",
   "execution_count": 1,
   "metadata": {
    "ExecuteTime": {
     "end_time": "2021-04-13T19:39:12.918898Z",
     "start_time": "2021-04-13T19:38:57.226296Z"
    }
   },
   "outputs": [
    {
     "name": "stdout",
     "output_type": "stream",
     "text": [
      "Requirement already satisfied: Flask in /opt/app-root/lib/python3.8/site-packages (from -r requirements.txt (line 1)) (2.0.3)\n",
      "Requirement already satisfied: gunicorn in /opt/app-root/lib/python3.8/site-packages (from -r requirements.txt (line 2)) (20.1.0)\n",
      "Requirement already satisfied: opencv-python-headless==4.5.* in /opt/app-root/lib/python3.8/site-packages (from -r requirements.txt (line 3)) (4.5.5.62)\n",
      "Requirement already satisfied: keras==2.8 in /opt/app-root/lib/python3.8/site-packages (from -r requirements.txt (line 4)) (2.8.0)\n",
      "Requirement already satisfied: tensorflow==2.8 in /opt/app-root/lib/python3.8/site-packages (from -r requirements.txt (line 5)) (2.8.0)\n",
      "Requirement already satisfied: tensorflow_datasets==4.5.2 in /opt/app-root/lib/python3.8/site-packages (from -r requirements.txt (line 6)) (4.5.2)\n",
      "Requirement already satisfied: scikit-image==0.19.1 in /opt/app-root/lib/python3.8/site-packages (from -r requirements.txt (line 7)) (0.19.1)\n",
      "Requirement already satisfied: scikit-learn==1.0.2 in /opt/app-root/lib/python3.8/site-packages (from -r requirements.txt (line 8)) (1.0.2)\n",
      "Requirement already satisfied: matplotlib in /opt/app-root/lib/python3.8/site-packages (from -r requirements.txt (line 9)) (3.4.1)\n",
      "Requirement already satisfied: h5py==2.10.0 in /opt/app-root/lib/python3.8/site-packages (from -r requirements.txt (line 10)) (2.10.0)\n",
      "Requirement already satisfied: tensorflow-addons==0.16.1 in /opt/app-root/lib/python3.8/site-packages (from -r requirements.txt (line 11)) (0.16.1)\n",
      "Requirement already satisfied: nltk==3.7 in /opt/app-root/lib/python3.8/site-packages (from -r requirements.txt (line 12)) (3.7)\n",
      "Requirement already satisfied: gensim==4.1.2 in /opt/app-root/lib/python3.8/site-packages (from -r requirements.txt (line 13)) (4.1.2)\n",
      "Requirement already satisfied: textblob==0.17.1 in /opt/app-root/lib/python3.8/site-packages (from -r requirements.txt (line 14)) (0.17.1)\n",
      "Requirement already satisfied: ipynbname in /opt/app-root/lib/python3.8/site-packages (from -r requirements.txt (line 15)) (2021.3.2)\n",
      "Requirement already satisfied: numpy>=1.17.3 in /opt/app-root/lib/python3.8/site-packages (from opencv-python-headless==4.5.*->-r requirements.txt (line 3)) (1.22.2)\n",
      "Requirement already satisfied: six>=1.12.0 in /opt/app-root/lib/python3.8/site-packages (from tensorflow==2.8->-r requirements.txt (line 5)) (1.16.0)\n",
      "Requirement already satisfied: tensorflow-io-gcs-filesystem>=0.23.1 in /opt/app-root/lib/python3.8/site-packages (from tensorflow==2.8->-r requirements.txt (line 5)) (0.23.1)\n",
      "Requirement already satisfied: grpcio<2.0,>=1.24.3 in /opt/app-root/lib/python3.8/site-packages (from tensorflow==2.8->-r requirements.txt (line 5)) (1.43.0)\n",
      "Requirement already satisfied: typing-extensions>=3.6.6 in /opt/app-root/lib/python3.8/site-packages (from tensorflow==2.8->-r requirements.txt (line 5)) (4.0.1)\n",
      "Requirement already satisfied: keras-preprocessing>=1.1.1 in /opt/app-root/lib/python3.8/site-packages (from tensorflow==2.8->-r requirements.txt (line 5)) (1.1.2)\n",
      "Requirement already satisfied: libclang>=9.0.1 in /opt/app-root/lib/python3.8/site-packages (from tensorflow==2.8->-r requirements.txt (line 5)) (12.0.0)\n",
      "Requirement already satisfied: flatbuffers>=1.12 in /opt/app-root/lib/python3.8/site-packages (from tensorflow==2.8->-r requirements.txt (line 5)) (2.0)\n",
      "Requirement already satisfied: opt-einsum>=2.3.2 in /opt/app-root/lib/python3.8/site-packages (from tensorflow==2.8->-r requirements.txt (line 5)) (3.3.0)\n",
      "Requirement already satisfied: wrapt>=1.11.0 in /opt/app-root/lib/python3.8/site-packages (from tensorflow==2.8->-r requirements.txt (line 5)) (1.12.1)\n",
      "Requirement already satisfied: protobuf>=3.9.2 in /opt/app-root/lib/python3.8/site-packages (from tensorflow==2.8->-r requirements.txt (line 5)) (3.19.3)\n",
      "Requirement already satisfied: astunparse>=1.6.0 in /opt/app-root/lib/python3.8/site-packages (from tensorflow==2.8->-r requirements.txt (line 5)) (1.6.3)\n",
      "Requirement already satisfied: setuptools in /opt/app-root/lib/python3.8/site-packages (from tensorflow==2.8->-r requirements.txt (line 5)) (60.9.1)\n",
      "Requirement already satisfied: absl-py>=0.4.0 in /opt/app-root/lib/python3.8/site-packages (from tensorflow==2.8->-r requirements.txt (line 5)) (1.0.0)\n",
      "Requirement already satisfied: tensorboard<2.9,>=2.8 in /opt/app-root/lib/python3.8/site-packages (from tensorflow==2.8->-r requirements.txt (line 5)) (2.8.0)\n",
      "Requirement already satisfied: tf-estimator-nightly==2.8.0.dev2021122109 in /opt/app-root/lib/python3.8/site-packages (from tensorflow==2.8->-r requirements.txt (line 5)) (2.8.0.dev2021122109)\n",
      "Requirement already satisfied: gast>=0.2.1 in /opt/app-root/lib/python3.8/site-packages (from tensorflow==2.8->-r requirements.txt (line 5)) (0.4.0)\n",
      "Requirement already satisfied: google-pasta>=0.1.1 in /opt/app-root/lib/python3.8/site-packages (from tensorflow==2.8->-r requirements.txt (line 5)) (0.2.0)\n",
      "Requirement already satisfied: termcolor>=1.1.0 in /opt/app-root/lib/python3.8/site-packages (from tensorflow==2.8->-r requirements.txt (line 5)) (1.1.0)\n",
      "Requirement already satisfied: importlib-resources in /opt/app-root/lib/python3.8/site-packages (from tensorflow_datasets==4.5.2->-r requirements.txt (line 6)) (5.4.0)\n",
      "Requirement already satisfied: tensorflow-metadata in /opt/app-root/lib/python3.8/site-packages (from tensorflow_datasets==4.5.2->-r requirements.txt (line 6)) (1.6.0)\n",
      "Requirement already satisfied: promise in /opt/app-root/lib/python3.8/site-packages (from tensorflow_datasets==4.5.2->-r requirements.txt (line 6)) (2.3)\n",
      "Requirement already satisfied: requests>=2.19.0 in /opt/app-root/lib/python3.8/site-packages (from tensorflow_datasets==4.5.2->-r requirements.txt (line 6)) (2.27.1)\n",
      "Requirement already satisfied: tqdm in /opt/app-root/lib/python3.8/site-packages (from tensorflow_datasets==4.5.2->-r requirements.txt (line 6)) (4.62.3)\n",
      "Requirement already satisfied: dill in /opt/app-root/lib/python3.8/site-packages (from tensorflow_datasets==4.5.2->-r requirements.txt (line 6)) (0.3.4)\n",
      "Requirement already satisfied: scipy>=1.4.1 in /opt/app-root/lib/python3.8/site-packages (from scikit-image==0.19.1->-r requirements.txt (line 7)) (1.6.2)\n",
      "Requirement already satisfied: networkx>=2.2 in /opt/app-root/lib/python3.8/site-packages (from scikit-image==0.19.1->-r requirements.txt (line 7)) (2.6.3)\n",
      "Requirement already satisfied: pillow!=7.1.0,!=7.1.1,!=8.3.0,>=6.1.0 in /opt/app-root/lib/python3.8/site-packages (from scikit-image==0.19.1->-r requirements.txt (line 7)) (9.0.0)\n",
      "Requirement already satisfied: packaging>=20.0 in /opt/app-root/lib/python3.8/site-packages (from scikit-image==0.19.1->-r requirements.txt (line 7)) (21.3)\n",
      "Requirement already satisfied: tifffile>=2019.7.26 in /opt/app-root/lib/python3.8/site-packages (from scikit-image==0.19.1->-r requirements.txt (line 7)) (2021.11.2)\n",
      "Requirement already satisfied: PyWavelets>=1.1.1 in /opt/app-root/lib/python3.8/site-packages (from scikit-image==0.19.1->-r requirements.txt (line 7)) (1.2.0)\n",
      "Requirement already satisfied: imageio>=2.4.1 in /opt/app-root/lib/python3.8/site-packages (from scikit-image==0.19.1->-r requirements.txt (line 7)) (2.13.5)\n",
      "Requirement already satisfied: threadpoolctl>=2.0.0 in /opt/app-root/lib/python3.8/site-packages (from scikit-learn==1.0.2->-r requirements.txt (line 8)) (3.0.0)\n",
      "Requirement already satisfied: joblib>=0.11 in /opt/app-root/lib/python3.8/site-packages (from scikit-learn==1.0.2->-r requirements.txt (line 8)) (1.1.0)\n",
      "Requirement already satisfied: typeguard>=2.7 in /opt/app-root/lib/python3.8/site-packages (from tensorflow-addons==0.16.1->-r requirements.txt (line 11)) (2.13.3)\n",
      "Requirement already satisfied: click in /opt/app-root/lib/python3.8/site-packages (from nltk==3.7->-r requirements.txt (line 12)) (8.0.3)\n",
      "Requirement already satisfied: regex>=2021.8.3 in /opt/app-root/lib/python3.8/site-packages (from nltk==3.7->-r requirements.txt (line 12)) (2021.11.10)\n",
      "Requirement already satisfied: smart-open>=1.8.1 in /opt/app-root/lib/python3.8/site-packages (from gensim==4.1.2->-r requirements.txt (line 13)) (5.2.1)\n",
      "Requirement already satisfied: Werkzeug>=2.0 in /opt/app-root/lib/python3.8/site-packages (from Flask->-r requirements.txt (line 1)) (2.0.2)\n",
      "Requirement already satisfied: itsdangerous>=2.0 in /opt/app-root/lib/python3.8/site-packages (from Flask->-r requirements.txt (line 1)) (2.1.0)\n",
      "Requirement already satisfied: Jinja2>=3.0 in /opt/app-root/lib/python3.8/site-packages (from Flask->-r requirements.txt (line 1)) (3.0.3)\n",
      "Requirement already satisfied: python-dateutil>=2.7 in /opt/app-root/lib/python3.8/site-packages (from matplotlib->-r requirements.txt (line 9)) (2.8.2)\n",
      "Requirement already satisfied: cycler>=0.10 in /opt/app-root/lib/python3.8/site-packages (from matplotlib->-r requirements.txt (line 9)) (0.11.0)\n",
      "Requirement already satisfied: pyparsing>=2.2.1 in /opt/app-root/lib/python3.8/site-packages (from matplotlib->-r requirements.txt (line 9)) (3.0.6)\n",
      "Requirement already satisfied: kiwisolver>=1.0.1 in /opt/app-root/lib/python3.8/site-packages (from matplotlib->-r requirements.txt (line 9)) (1.3.2)\n",
      "Requirement already satisfied: ipykernel in /opt/app-root/lib/python3.8/site-packages (from ipynbname->-r requirements.txt (line 15)) (6.6.1)\n",
      "Requirement already satisfied: wheel<1.0,>=0.23.0 in /opt/app-root/lib/python3.8/site-packages (from astunparse>=1.6.0->tensorflow==2.8->-r requirements.txt (line 5)) (0.37.1)\n",
      "Requirement already satisfied: MarkupSafe>=2.0 in /opt/app-root/lib/python3.8/site-packages (from Jinja2>=3.0->Flask->-r requirements.txt (line 1)) (2.0.1)\n",
      "Requirement already satisfied: urllib3<1.27,>=1.21.1 in /opt/app-root/lib/python3.8/site-packages (from requests>=2.19.0->tensorflow_datasets==4.5.2->-r requirements.txt (line 6)) (1.26.8)\n",
      "Requirement already satisfied: idna<4,>=2.5 in /opt/app-root/lib/python3.8/site-packages (from requests>=2.19.0->tensorflow_datasets==4.5.2->-r requirements.txt (line 6)) (3.3)\n",
      "Requirement already satisfied: charset-normalizer~=2.0.0 in /opt/app-root/lib/python3.8/site-packages (from requests>=2.19.0->tensorflow_datasets==4.5.2->-r requirements.txt (line 6)) (2.0.10)\n",
      "Requirement already satisfied: certifi>=2017.4.17 in /opt/app-root/lib/python3.8/site-packages (from requests>=2.19.0->tensorflow_datasets==4.5.2->-r requirements.txt (line 6)) (2021.10.8)\n",
      "Requirement already satisfied: tensorboard-plugin-wit>=1.6.0 in /opt/app-root/lib/python3.8/site-packages (from tensorboard<2.9,>=2.8->tensorflow==2.8->-r requirements.txt (line 5)) (1.8.1)\n",
      "Requirement already satisfied: tensorboard-data-server<0.7.0,>=0.6.0 in /opt/app-root/lib/python3.8/site-packages (from tensorboard<2.9,>=2.8->tensorflow==2.8->-r requirements.txt (line 5)) (0.6.1)\n",
      "Requirement already satisfied: markdown>=2.6.8 in /opt/app-root/lib/python3.8/site-packages (from tensorboard<2.9,>=2.8->tensorflow==2.8->-r requirements.txt (line 5)) (3.3.6)\n",
      "Requirement already satisfied: google-auth-oauthlib<0.5,>=0.4.1 in /opt/app-root/lib/python3.8/site-packages (from tensorboard<2.9,>=2.8->tensorflow==2.8->-r requirements.txt (line 5)) (0.4.6)\n",
      "Requirement already satisfied: google-auth<3,>=1.6.3 in /opt/app-root/lib/python3.8/site-packages (from tensorboard<2.9,>=2.8->tensorflow==2.8->-r requirements.txt (line 5)) (1.35.0)\n",
      "Requirement already satisfied: zipp>=3.1.0 in /opt/app-root/lib/python3.8/site-packages (from importlib-resources->tensorflow_datasets==4.5.2->-r requirements.txt (line 6)) (3.7.0)\n",
      "Requirement already satisfied: jupyter-client<8.0 in /opt/app-root/lib/python3.8/site-packages (from ipykernel->ipynbname->-r requirements.txt (line 15)) (7.1.0)\n",
      "Requirement already satisfied: tornado<7.0,>=4.2 in /opt/app-root/lib/python3.8/site-packages (from ipykernel->ipynbname->-r requirements.txt (line 15)) (6.1)\n",
      "Requirement already satisfied: ipython>=7.23.1 in /opt/app-root/lib/python3.8/site-packages (from ipykernel->ipynbname->-r requirements.txt (line 15)) (8.0.0rc1)\n",
      "Requirement already satisfied: debugpy<2.0,>=1.0.0 in /opt/app-root/lib/python3.8/site-packages (from ipykernel->ipynbname->-r requirements.txt (line 15)) (1.5.1)\n",
      "Requirement already satisfied: matplotlib-inline<0.2.0,>=0.1.0 in /opt/app-root/lib/python3.8/site-packages (from ipykernel->ipynbname->-r requirements.txt (line 15)) (0.1.3)\n",
      "Requirement already satisfied: nest-asyncio in /opt/app-root/lib/python3.8/site-packages (from ipykernel->ipynbname->-r requirements.txt (line 15)) (1.5.4)\n",
      "Requirement already satisfied: traitlets<6.0,>=5.1.0 in /opt/app-root/lib/python3.8/site-packages (from ipykernel->ipynbname->-r requirements.txt (line 15)) (5.1.1)\n",
      "Requirement already satisfied: googleapis-common-protos<2,>=1.52.0 in /opt/app-root/lib/python3.8/site-packages (from tensorflow-metadata->tensorflow_datasets==4.5.2->-r requirements.txt (line 6)) (1.54.0)\n",
      "Requirement already satisfied: pyasn1-modules>=0.2.1 in /opt/app-root/lib/python3.8/site-packages (from google-auth<3,>=1.6.3->tensorboard<2.9,>=2.8->tensorflow==2.8->-r requirements.txt (line 5)) (0.2.8)\n",
      "Requirement already satisfied: cachetools<5.0,>=2.0.0 in /opt/app-root/lib/python3.8/site-packages (from google-auth<3,>=1.6.3->tensorboard<2.9,>=2.8->tensorflow==2.8->-r requirements.txt (line 5)) (4.2.4)\n",
      "Requirement already satisfied: rsa<5,>=3.1.4 in /opt/app-root/lib/python3.8/site-packages (from google-auth<3,>=1.6.3->tensorboard<2.9,>=2.8->tensorflow==2.8->-r requirements.txt (line 5)) (4.8)\n",
      "Requirement already satisfied: requests-oauthlib>=0.7.0 in /opt/app-root/lib/python3.8/site-packages (from google-auth-oauthlib<0.5,>=0.4.1->tensorboard<2.9,>=2.8->tensorflow==2.8->-r requirements.txt (line 5)) (1.3.0)\n",
      "Requirement already satisfied: jedi>=0.16 in /opt/app-root/lib/python3.8/site-packages (from ipython>=7.23.1->ipykernel->ipynbname->-r requirements.txt (line 15)) (0.17.2)\n",
      "Requirement already satisfied: backcall in /opt/app-root/lib/python3.8/site-packages (from ipython>=7.23.1->ipykernel->ipynbname->-r requirements.txt (line 15)) (0.2.0)\n",
      "Requirement already satisfied: stack-data in /opt/app-root/lib/python3.8/site-packages (from ipython>=7.23.1->ipykernel->ipynbname->-r requirements.txt (line 15)) (0.1.3)\n",
      "Requirement already satisfied: prompt-toolkit!=3.0.0,!=3.0.1,<3.1.0,>=2.0.0 in /opt/app-root/lib/python3.8/site-packages (from ipython>=7.23.1->ipykernel->ipynbname->-r requirements.txt (line 15)) (3.0.24)\n",
      "Requirement already satisfied: pygments in /opt/app-root/lib/python3.8/site-packages (from ipython>=7.23.1->ipykernel->ipynbname->-r requirements.txt (line 15)) (2.11.2)\n",
      "Requirement already satisfied: pexpect>4.3 in /opt/app-root/lib/python3.8/site-packages (from ipython>=7.23.1->ipykernel->ipynbname->-r requirements.txt (line 15)) (4.8.0)\n",
      "Requirement already satisfied: black in /opt/app-root/lib/python3.8/site-packages (from ipython>=7.23.1->ipykernel->ipynbname->-r requirements.txt (line 15)) (21.6b0)\n",
      "Requirement already satisfied: pickleshare in /opt/app-root/lib/python3.8/site-packages (from ipython>=7.23.1->ipykernel->ipynbname->-r requirements.txt (line 15)) (0.7.5)\n",
      "Requirement already satisfied: decorator in /opt/app-root/lib/python3.8/site-packages (from ipython>=7.23.1->ipykernel->ipynbname->-r requirements.txt (line 15)) (5.1.1)\n",
      "Requirement already satisfied: jupyter-core>=4.6.0 in /opt/app-root/lib/python3.8/site-packages (from jupyter-client<8.0->ipykernel->ipynbname->-r requirements.txt (line 15)) (4.9.1)\n",
      "Requirement already satisfied: entrypoints in /opt/app-root/lib/python3.8/site-packages (from jupyter-client<8.0->ipykernel->ipynbname->-r requirements.txt (line 15)) (0.3)\n",
      "Requirement already satisfied: pyzmq>=13 in /opt/app-root/lib/python3.8/site-packages (from jupyter-client<8.0->ipykernel->ipynbname->-r requirements.txt (line 15)) (22.3.0)\n",
      "Requirement already satisfied: importlib-metadata>=4.4 in /opt/app-root/lib/python3.8/site-packages (from markdown>=2.6.8->tensorboard<2.9,>=2.8->tensorflow==2.8->-r requirements.txt (line 5)) (4.10.0)\n",
      "Requirement already satisfied: parso<0.8.0,>=0.7.0 in /opt/app-root/lib/python3.8/site-packages (from jedi>=0.16->ipython>=7.23.1->ipykernel->ipynbname->-r requirements.txt (line 15)) (0.7.1)\n",
      "Requirement already satisfied: ptyprocess>=0.5 in /opt/app-root/lib/python3.8/site-packages (from pexpect>4.3->ipython>=7.23.1->ipykernel->ipynbname->-r requirements.txt (line 15)) (0.7.0)\n",
      "Requirement already satisfied: wcwidth in /opt/app-root/lib/python3.8/site-packages (from prompt-toolkit!=3.0.0,!=3.0.1,<3.1.0,>=2.0.0->ipython>=7.23.1->ipykernel->ipynbname->-r requirements.txt (line 15)) (0.2.5)\n",
      "Requirement already satisfied: pyasn1<0.5.0,>=0.4.6 in /opt/app-root/lib/python3.8/site-packages (from pyasn1-modules>=0.2.1->google-auth<3,>=1.6.3->tensorboard<2.9,>=2.8->tensorflow==2.8->-r requirements.txt (line 5)) (0.4.8)\n",
      "Requirement already satisfied: oauthlib>=3.0.0 in /opt/app-root/lib/python3.8/site-packages (from requests-oauthlib>=0.7.0->google-auth-oauthlib<0.5,>=0.4.1->tensorboard<2.9,>=2.8->tensorflow==2.8->-r requirements.txt (line 5)) (3.1.1)\n",
      "Requirement already satisfied: appdirs in /opt/app-root/lib/python3.8/site-packages (from black->ipython>=7.23.1->ipykernel->ipynbname->-r requirements.txt (line 15)) (1.4.4)\n",
      "Requirement already satisfied: mypy-extensions>=0.4.3 in /opt/app-root/lib/python3.8/site-packages (from black->ipython>=7.23.1->ipykernel->ipynbname->-r requirements.txt (line 15)) (0.4.3)\n",
      "Requirement already satisfied: pathspec<1,>=0.8.1 in /opt/app-root/lib/python3.8/site-packages (from black->ipython>=7.23.1->ipykernel->ipynbname->-r requirements.txt (line 15)) (0.9.0)\n",
      "Requirement already satisfied: toml>=0.10.1 in /opt/app-root/lib/python3.8/site-packages (from black->ipython>=7.23.1->ipykernel->ipynbname->-r requirements.txt (line 15)) (0.10.2)\n",
      "Requirement already satisfied: asttokens in /opt/app-root/lib/python3.8/site-packages (from stack-data->ipython>=7.23.1->ipykernel->ipynbname->-r requirements.txt (line 15)) (2.0.5)\n",
      "Requirement already satisfied: pure-eval in /opt/app-root/lib/python3.8/site-packages (from stack-data->ipython>=7.23.1->ipykernel->ipynbname->-r requirements.txt (line 15)) (0.2.1)\n",
      "Requirement already satisfied: executing in /opt/app-root/lib/python3.8/site-packages (from stack-data->ipython>=7.23.1->ipykernel->ipynbname->-r requirements.txt (line 15)) (0.8.2)\n"
     ]
    }
   ],
   "source": [
    "import sys\n",
    "!{sys.executable} -m pip install -r requirements.txt"
   ]
  },
  {
   "cell_type": "markdown",
   "metadata": {},
   "source": [
    "Now that we have everything in place, we can launch the Flask application.\n",
    "\n",
    "(Please ignore the CUDA errors of warning if you don't have any GPU).\n",
    "\n",
    "This cell will be in a **permanent running state**. That's normal as the webserver process will keep running. When you are **finished** with the test you can just select the cell, and click on the **Stop button** (next to Run)."
   ]
  },
  {
   "cell_type": "code",
   "execution_count": null,
   "metadata": {
    "ExecuteTime": {
     "end_time": "2021-04-13T20:22:18.706055Z",
     "start_time": "2021-04-13T20:12:31.112873Z"
    }
   },
   "outputs": [
    {
     "name": "stdout",
     "output_type": "stream",
     "text": [
      " * Serving Flask app 'wsgi.py' (lazy loading)\n",
      " * Environment: development\n",
      " * Debug mode: on\n",
      " * Running on http://127.0.0.1:5000/ (Press CTRL+C to quit)\n",
      " * Restarting with watchdog (inotify)\n",
      " * Debugger is active!\n",
      " * Debugger PIN: 522-689-763\n",
      " * Detected change in '/opt/app-root/src/NLP-Consumer-Complain-Classification/.~prediction.py', reloading\n",
      " * Detected change in '/opt/app-root/src/NLP-Consumer-Complain-Classification/.~prediction.py', reloading\n",
      " * Detected change in '/opt/app-root/src/NLP-Consumer-Complain-Classification/.~prediction.py', reloading\n",
      " * Detected change in '/opt/app-root/src/NLP-Consumer-Complain-Classification/.~prediction.py', reloading\n",
      " * Detected change in '/opt/app-root/src/NLP-Consumer-Complain-Classification/prediction.py', reloading\n",
      " * Detected change in '/opt/app-root/src/NLP-Consumer-Complain-Classification/prediction.py', reloading\n",
      " * Detected change in '/opt/app-root/src/NLP-Consumer-Complain-Classification/.~prediction.py', reloading\n",
      " * Detected change in '/opt/app-root/src/NLP-Consumer-Complain-Classification/.ipynb_checkpoints/prediction-checkpoint.py', reloading\n",
      " * Detected change in '/opt/app-root/src/NLP-Consumer-Complain-Classification/.ipynb_checkpoints/prediction-checkpoint.py', reloading\n",
      " * Detected change in '/opt/app-root/src/NLP-Consumer-Complain-Classification/.ipynb_checkpoints/prediction-checkpoint.py', reloading\n",
      " * Restarting with watchdog (inotify)\n",
      " * Debugger is active!\n",
      " * Debugger PIN: 522-689-763\n",
      "Loading model 2954\n",
      "2022-02-25 04:33:08.550593: W tensorflow/stream_executor/platform/default/dso_loader.cc:64] Could not load dynamic library 'libcuda.so.1'; dlerror: libcuda.so.1: cannot open shared object file: No such file or directory; LD_LIBRARY_PATH: /usr/local/nvidia/lib:/usr/local/nvidia/lib64\n",
      "2022-02-25 04:33:08.550628: W tensorflow/stream_executor/cuda/cuda_driver.cc:269] failed call to cuInit: UNKNOWN ERROR (303)\n",
      "2022-02-25 04:33:08.550798: I tensorflow/stream_executor/cuda/cuda_diagnostics.cc:156] kernel driver does not appear to be running on this host (jupyterhub-nb-amirgholipour): /proc/driver/nvidia/version does not exist\n",
      "2022-02-25 04:33:08.551050: I tensorflow/core/platform/cpu_feature_guard.cc:151] This TensorFlow binary is optimized with oneAPI Deep Neural Network Library (oneDNN) to use the following CPU instructions in performance-critical operations:  AVX2 AVX512F FMA\n",
      "To enable them in other operations, rebuild TensorFlow with the appropriate compiler flags.\n",
      "Loaded model\n",
      "Models have just loaded!!!!\n"
     ]
    }
   ],
   "source": [
    "!FLASK_ENV=development FLASK_APP=wsgi.py flask run"
   ]
  },
  {
   "cell_type": "markdown",
   "metadata": {},
   "source": [
    "Once the models have been loaded, our server is ready to take requests. Leave this notebook running,and open `04_Consummer-Complain-Classification_test_application.ipynb`."
   ]
  },
  {
   "cell_type": "code",
   "execution_count": null,
   "metadata": {},
   "outputs": [],
   "source": []
  }
 ],
 "metadata": {
  "finalized": {
   "timestamp": 1618345356814,
   "trusted": true
  },
  "kernelspec": {
   "display_name": "Python 3 (ipykernel)",
   "language": "python",
   "name": "python3"
  },
  "language_info": {
   "codemirror_mode": {
    "name": "ipython",
    "version": 3
   },
   "file_extension": ".py",
   "mimetype": "text/x-python",
   "name": "python",
   "nbconvert_exporter": "python",
   "pygments_lexer": "ipython3",
   "version": "3.8.8"
  },
  "toc": {
   "base_numbering": 1,
   "nav_menu": {},
   "number_sections": true,
   "sideBar": true,
   "skip_h1_title": false,
   "title_cell": "Table of Contents",
   "title_sidebar": "Contents",
   "toc_cell": false,
   "toc_position": {},
   "toc_section_display": true,
   "toc_window_display": false
  }
 },
 "nbformat": 4,
 "nbformat_minor": 4
}
