{
 "cells": [
  {
   "cell_type": "markdown",
   "id": "4870212e-8584-458a-8b68-6b7567dffd9d",
   "metadata": {},
   "source": [
    "# Install requirements"
   ]
  },
  {
   "cell_type": "code",
   "execution_count": 1,
   "id": "69b4a324",
   "metadata": {},
   "outputs": [
    {
     "name": "stdout",
     "output_type": "stream",
     "text": [
      "Requirement already satisfied: Flask in /opt/app-root/lib/python3.8/site-packages (from -r requirements.txt (line 1)) (2.0.3)\n",
      "Requirement already satisfied: gunicorn in /opt/app-root/lib/python3.8/site-packages (from -r requirements.txt (line 2)) (20.1.0)\n",
      "Requirement already satisfied: opencv-python-headless==4.5.* in /opt/app-root/lib/python3.8/site-packages (from -r requirements.txt (line 3)) (4.5.5.62)\n",
      "Requirement already satisfied: keras==2.8 in /opt/app-root/lib/python3.8/site-packages (from -r requirements.txt (line 4)) (2.8.0)\n",
      "Requirement already satisfied: tensorflow==2.8 in /opt/app-root/lib/python3.8/site-packages (from -r requirements.txt (line 5)) (2.8.0)\n",
      "Requirement already satisfied: tensorflow_datasets==4.5.2 in /opt/app-root/lib/python3.8/site-packages (from -r requirements.txt (line 6)) (4.5.2)\n",
      "Requirement already satisfied: scikit-image==0.19.1 in /opt/app-root/lib/python3.8/site-packages (from -r requirements.txt (line 7)) (0.19.1)\n",
      "Requirement already satisfied: scikit-learn==1.0.2 in /opt/app-root/lib/python3.8/site-packages (from -r requirements.txt (line 8)) (1.0.2)\n",
      "Requirement already satisfied: matplotlib in /opt/app-root/lib/python3.8/site-packages (from -r requirements.txt (line 9)) (3.4.1)\n",
      "Requirement already satisfied: h5py==2.10.0 in /opt/app-root/lib/python3.8/site-packages (from -r requirements.txt (line 10)) (2.10.0)\n",
      "Requirement already satisfied: tensorflow-addons==0.16.1 in /opt/app-root/lib/python3.8/site-packages (from -r requirements.txt (line 11)) (0.16.1)\n",
      "Requirement already satisfied: nltk==3.7 in /opt/app-root/lib/python3.8/site-packages (from -r requirements.txt (line 12)) (3.7)\n",
      "Requirement already satisfied: gensim==4.1.2 in /opt/app-root/lib/python3.8/site-packages (from -r requirements.txt (line 13)) (4.1.2)\n",
      "Requirement already satisfied: textblob==0.17.1 in /opt/app-root/lib/python3.8/site-packages (from -r requirements.txt (line 14)) (0.17.1)\n",
      "Requirement already satisfied: ipynbname in /opt/app-root/lib/python3.8/site-packages (from -r requirements.txt (line 15)) (2021.3.2)\n",
      "Requirement already satisfied: numpy>=1.17.3 in /opt/app-root/lib/python3.8/site-packages (from opencv-python-headless==4.5.*->-r requirements.txt (line 3)) (1.22.2)\n",
      "Requirement already satisfied: google-pasta>=0.1.1 in /opt/app-root/lib/python3.8/site-packages (from tensorflow==2.8->-r requirements.txt (line 5)) (0.2.0)\n",
      "Requirement already satisfied: libclang>=9.0.1 in /opt/app-root/lib/python3.8/site-packages (from tensorflow==2.8->-r requirements.txt (line 5)) (12.0.0)\n",
      "Requirement already satisfied: gast>=0.2.1 in /opt/app-root/lib/python3.8/site-packages (from tensorflow==2.8->-r requirements.txt (line 5)) (0.4.0)\n",
      "Requirement already satisfied: opt-einsum>=2.3.2 in /opt/app-root/lib/python3.8/site-packages (from tensorflow==2.8->-r requirements.txt (line 5)) (3.3.0)\n",
      "Requirement already satisfied: tf-estimator-nightly==2.8.0.dev2021122109 in /opt/app-root/lib/python3.8/site-packages (from tensorflow==2.8->-r requirements.txt (line 5)) (2.8.0.dev2021122109)\n",
      "Requirement already satisfied: grpcio<2.0,>=1.24.3 in /opt/app-root/lib/python3.8/site-packages (from tensorflow==2.8->-r requirements.txt (line 5)) (1.43.0)\n",
      "Requirement already satisfied: tensorflow-io-gcs-filesystem>=0.23.1 in /opt/app-root/lib/python3.8/site-packages (from tensorflow==2.8->-r requirements.txt (line 5)) (0.23.1)\n",
      "Requirement already satisfied: setuptools in /opt/app-root/lib/python3.8/site-packages (from tensorflow==2.8->-r requirements.txt (line 5)) (60.9.1)\n",
      "Requirement already satisfied: protobuf>=3.9.2 in /opt/app-root/lib/python3.8/site-packages (from tensorflow==2.8->-r requirements.txt (line 5)) (3.19.3)\n",
      "Requirement already satisfied: termcolor>=1.1.0 in /opt/app-root/lib/python3.8/site-packages (from tensorflow==2.8->-r requirements.txt (line 5)) (1.1.0)\n",
      "Requirement already satisfied: typing-extensions>=3.6.6 in /opt/app-root/lib/python3.8/site-packages (from tensorflow==2.8->-r requirements.txt (line 5)) (4.0.1)\n",
      "Requirement already satisfied: tensorboard<2.9,>=2.8 in /opt/app-root/lib/python3.8/site-packages (from tensorflow==2.8->-r requirements.txt (line 5)) (2.8.0)\n",
      "Requirement already satisfied: absl-py>=0.4.0 in /opt/app-root/lib/python3.8/site-packages (from tensorflow==2.8->-r requirements.txt (line 5)) (1.0.0)\n",
      "Requirement already satisfied: astunparse>=1.6.0 in /opt/app-root/lib/python3.8/site-packages (from tensorflow==2.8->-r requirements.txt (line 5)) (1.6.3)\n",
      "Requirement already satisfied: flatbuffers>=1.12 in /opt/app-root/lib/python3.8/site-packages (from tensorflow==2.8->-r requirements.txt (line 5)) (2.0)\n",
      "Requirement already satisfied: six>=1.12.0 in /opt/app-root/lib/python3.8/site-packages (from tensorflow==2.8->-r requirements.txt (line 5)) (1.16.0)\n",
      "Requirement already satisfied: wrapt>=1.11.0 in /opt/app-root/lib/python3.8/site-packages (from tensorflow==2.8->-r requirements.txt (line 5)) (1.12.1)\n",
      "Requirement already satisfied: keras-preprocessing>=1.1.1 in /opt/app-root/lib/python3.8/site-packages (from tensorflow==2.8->-r requirements.txt (line 5)) (1.1.2)\n",
      "Requirement already satisfied: importlib-resources in /opt/app-root/lib/python3.8/site-packages (from tensorflow_datasets==4.5.2->-r requirements.txt (line 6)) (5.4.0)\n",
      "Requirement already satisfied: tensorflow-metadata in /opt/app-root/lib/python3.8/site-packages (from tensorflow_datasets==4.5.2->-r requirements.txt (line 6)) (1.6.0)\n",
      "Requirement already satisfied: tqdm in /opt/app-root/lib/python3.8/site-packages (from tensorflow_datasets==4.5.2->-r requirements.txt (line 6)) (4.62.3)\n",
      "Requirement already satisfied: promise in /opt/app-root/lib/python3.8/site-packages (from tensorflow_datasets==4.5.2->-r requirements.txt (line 6)) (2.3)\n",
      "Requirement already satisfied: requests>=2.19.0 in /opt/app-root/lib/python3.8/site-packages (from tensorflow_datasets==4.5.2->-r requirements.txt (line 6)) (2.27.1)\n",
      "Requirement already satisfied: dill in /opt/app-root/lib/python3.8/site-packages (from tensorflow_datasets==4.5.2->-r requirements.txt (line 6)) (0.3.4)\n",
      "Requirement already satisfied: scipy>=1.4.1 in /opt/app-root/lib/python3.8/site-packages (from scikit-image==0.19.1->-r requirements.txt (line 7)) (1.6.2)\n",
      "Requirement already satisfied: pillow!=7.1.0,!=7.1.1,!=8.3.0,>=6.1.0 in /opt/app-root/lib/python3.8/site-packages (from scikit-image==0.19.1->-r requirements.txt (line 7)) (9.0.0)\n",
      "Requirement already satisfied: tifffile>=2019.7.26 in /opt/app-root/lib/python3.8/site-packages (from scikit-image==0.19.1->-r requirements.txt (line 7)) (2021.11.2)\n",
      "Requirement already satisfied: imageio>=2.4.1 in /opt/app-root/lib/python3.8/site-packages (from scikit-image==0.19.1->-r requirements.txt (line 7)) (2.13.5)\n",
      "Requirement already satisfied: PyWavelets>=1.1.1 in /opt/app-root/lib/python3.8/site-packages (from scikit-image==0.19.1->-r requirements.txt (line 7)) (1.2.0)\n",
      "Requirement already satisfied: packaging>=20.0 in /opt/app-root/lib/python3.8/site-packages (from scikit-image==0.19.1->-r requirements.txt (line 7)) (21.3)\n",
      "Requirement already satisfied: networkx>=2.2 in /opt/app-root/lib/python3.8/site-packages (from scikit-image==0.19.1->-r requirements.txt (line 7)) (2.6.3)\n",
      "Requirement already satisfied: joblib>=0.11 in /opt/app-root/lib/python3.8/site-packages (from scikit-learn==1.0.2->-r requirements.txt (line 8)) (1.1.0)\n",
      "Requirement already satisfied: threadpoolctl>=2.0.0 in /opt/app-root/lib/python3.8/site-packages (from scikit-learn==1.0.2->-r requirements.txt (line 8)) (3.0.0)\n",
      "Requirement already satisfied: typeguard>=2.7 in /opt/app-root/lib/python3.8/site-packages (from tensorflow-addons==0.16.1->-r requirements.txt (line 11)) (2.13.3)\n",
      "Requirement already satisfied: click in /opt/app-root/lib/python3.8/site-packages (from nltk==3.7->-r requirements.txt (line 12)) (8.0.3)\n",
      "Requirement already satisfied: regex>=2021.8.3 in /opt/app-root/lib/python3.8/site-packages (from nltk==3.7->-r requirements.txt (line 12)) (2021.11.10)\n",
      "Requirement already satisfied: smart-open>=1.8.1 in /opt/app-root/lib/python3.8/site-packages (from gensim==4.1.2->-r requirements.txt (line 13)) (5.2.1)\n",
      "Requirement already satisfied: itsdangerous>=2.0 in /opt/app-root/lib/python3.8/site-packages (from Flask->-r requirements.txt (line 1)) (2.1.0)\n",
      "Requirement already satisfied: Werkzeug>=2.0 in /opt/app-root/lib/python3.8/site-packages (from Flask->-r requirements.txt (line 1)) (2.0.2)\n",
      "Requirement already satisfied: Jinja2>=3.0 in /opt/app-root/lib/python3.8/site-packages (from Flask->-r requirements.txt (line 1)) (3.0.3)\n",
      "Requirement already satisfied: pyparsing>=2.2.1 in /opt/app-root/lib/python3.8/site-packages (from matplotlib->-r requirements.txt (line 9)) (3.0.6)\n",
      "Requirement already satisfied: cycler>=0.10 in /opt/app-root/lib/python3.8/site-packages (from matplotlib->-r requirements.txt (line 9)) (0.11.0)\n",
      "Requirement already satisfied: python-dateutil>=2.7 in /opt/app-root/lib/python3.8/site-packages (from matplotlib->-r requirements.txt (line 9)) (2.8.2)\n",
      "Requirement already satisfied: kiwisolver>=1.0.1 in /opt/app-root/lib/python3.8/site-packages (from matplotlib->-r requirements.txt (line 9)) (1.3.2)\n",
      "Requirement already satisfied: ipykernel in /opt/app-root/lib/python3.8/site-packages (from ipynbname->-r requirements.txt (line 15)) (6.6.1)\n",
      "Requirement already satisfied: wheel<1.0,>=0.23.0 in /opt/app-root/lib/python3.8/site-packages (from astunparse>=1.6.0->tensorflow==2.8->-r requirements.txt (line 5)) (0.37.1)\n",
      "Requirement already satisfied: MarkupSafe>=2.0 in /opt/app-root/lib/python3.8/site-packages (from Jinja2>=3.0->Flask->-r requirements.txt (line 1)) (2.0.1)\n",
      "Requirement already satisfied: idna<4,>=2.5 in /opt/app-root/lib/python3.8/site-packages (from requests>=2.19.0->tensorflow_datasets==4.5.2->-r requirements.txt (line 6)) (3.3)\n",
      "Requirement already satisfied: charset-normalizer~=2.0.0 in /opt/app-root/lib/python3.8/site-packages (from requests>=2.19.0->tensorflow_datasets==4.5.2->-r requirements.txt (line 6)) (2.0.10)\n",
      "Requirement already satisfied: urllib3<1.27,>=1.21.1 in /opt/app-root/lib/python3.8/site-packages (from requests>=2.19.0->tensorflow_datasets==4.5.2->-r requirements.txt (line 6)) (1.26.8)\n",
      "Requirement already satisfied: certifi>=2017.4.17 in /opt/app-root/lib/python3.8/site-packages (from requests>=2.19.0->tensorflow_datasets==4.5.2->-r requirements.txt (line 6)) (2021.10.8)\n",
      "Requirement already satisfied: google-auth-oauthlib<0.5,>=0.4.1 in /opt/app-root/lib/python3.8/site-packages (from tensorboard<2.9,>=2.8->tensorflow==2.8->-r requirements.txt (line 5)) (0.4.6)\n",
      "Requirement already satisfied: markdown>=2.6.8 in /opt/app-root/lib/python3.8/site-packages (from tensorboard<2.9,>=2.8->tensorflow==2.8->-r requirements.txt (line 5)) (3.3.6)\n",
      "Requirement already satisfied: tensorboard-data-server<0.7.0,>=0.6.0 in /opt/app-root/lib/python3.8/site-packages (from tensorboard<2.9,>=2.8->tensorflow==2.8->-r requirements.txt (line 5)) (0.6.1)\n",
      "Requirement already satisfied: tensorboard-plugin-wit>=1.6.0 in /opt/app-root/lib/python3.8/site-packages (from tensorboard<2.9,>=2.8->tensorflow==2.8->-r requirements.txt (line 5)) (1.8.1)\n",
      "Requirement already satisfied: google-auth<3,>=1.6.3 in /opt/app-root/lib/python3.8/site-packages (from tensorboard<2.9,>=2.8->tensorflow==2.8->-r requirements.txt (line 5)) (1.35.0)\n",
      "Requirement already satisfied: zipp>=3.1.0 in /opt/app-root/lib/python3.8/site-packages (from importlib-resources->tensorflow_datasets==4.5.2->-r requirements.txt (line 6)) (3.7.0)\n",
      "Requirement already satisfied: ipython>=7.23.1 in /opt/app-root/lib/python3.8/site-packages (from ipykernel->ipynbname->-r requirements.txt (line 15)) (8.0.0rc1)\n",
      "Requirement already satisfied: matplotlib-inline<0.2.0,>=0.1.0 in /opt/app-root/lib/python3.8/site-packages (from ipykernel->ipynbname->-r requirements.txt (line 15)) (0.1.3)\n",
      "Requirement already satisfied: tornado<7.0,>=4.2 in /opt/app-root/lib/python3.8/site-packages (from ipykernel->ipynbname->-r requirements.txt (line 15)) (6.1)\n",
      "Requirement already satisfied: nest-asyncio in /opt/app-root/lib/python3.8/site-packages (from ipykernel->ipynbname->-r requirements.txt (line 15)) (1.5.4)\n",
      "Requirement already satisfied: jupyter-client<8.0 in /opt/app-root/lib/python3.8/site-packages (from ipykernel->ipynbname->-r requirements.txt (line 15)) (7.1.0)\n",
      "Requirement already satisfied: debugpy<2.0,>=1.0.0 in /opt/app-root/lib/python3.8/site-packages (from ipykernel->ipynbname->-r requirements.txt (line 15)) (1.5.1)\n",
      "Requirement already satisfied: traitlets<6.0,>=5.1.0 in /opt/app-root/lib/python3.8/site-packages (from ipykernel->ipynbname->-r requirements.txt (line 15)) (5.1.1)\n",
      "Requirement already satisfied: googleapis-common-protos<2,>=1.52.0 in /opt/app-root/lib/python3.8/site-packages (from tensorflow-metadata->tensorflow_datasets==4.5.2->-r requirements.txt (line 6)) (1.54.0)\n",
      "Requirement already satisfied: cachetools<5.0,>=2.0.0 in /opt/app-root/lib/python3.8/site-packages (from google-auth<3,>=1.6.3->tensorboard<2.9,>=2.8->tensorflow==2.8->-r requirements.txt (line 5)) (4.2.4)\n",
      "Requirement already satisfied: rsa<5,>=3.1.4 in /opt/app-root/lib/python3.8/site-packages (from google-auth<3,>=1.6.3->tensorboard<2.9,>=2.8->tensorflow==2.8->-r requirements.txt (line 5)) (4.8)\n",
      "Requirement already satisfied: pyasn1-modules>=0.2.1 in /opt/app-root/lib/python3.8/site-packages (from google-auth<3,>=1.6.3->tensorboard<2.9,>=2.8->tensorflow==2.8->-r requirements.txt (line 5)) (0.2.8)\n",
      "Requirement already satisfied: requests-oauthlib>=0.7.0 in /opt/app-root/lib/python3.8/site-packages (from google-auth-oauthlib<0.5,>=0.4.1->tensorboard<2.9,>=2.8->tensorflow==2.8->-r requirements.txt (line 5)) (1.3.0)\n",
      "Requirement already satisfied: decorator in /opt/app-root/lib/python3.8/site-packages (from ipython>=7.23.1->ipykernel->ipynbname->-r requirements.txt (line 15)) (5.1.1)\n",
      "Requirement already satisfied: backcall in /opt/app-root/lib/python3.8/site-packages (from ipython>=7.23.1->ipykernel->ipynbname->-r requirements.txt (line 15)) (0.2.0)\n",
      "Requirement already satisfied: pickleshare in /opt/app-root/lib/python3.8/site-packages (from ipython>=7.23.1->ipykernel->ipynbname->-r requirements.txt (line 15)) (0.7.5)\n",
      "Requirement already satisfied: pexpect>4.3 in /opt/app-root/lib/python3.8/site-packages (from ipython>=7.23.1->ipykernel->ipynbname->-r requirements.txt (line 15)) (4.8.0)\n",
      "Requirement already satisfied: black in /opt/app-root/lib/python3.8/site-packages (from ipython>=7.23.1->ipykernel->ipynbname->-r requirements.txt (line 15)) (21.6b0)\n",
      "Requirement already satisfied: jedi>=0.16 in /opt/app-root/lib/python3.8/site-packages (from ipython>=7.23.1->ipykernel->ipynbname->-r requirements.txt (line 15)) (0.17.2)\n",
      "Requirement already satisfied: pygments in /opt/app-root/lib/python3.8/site-packages (from ipython>=7.23.1->ipykernel->ipynbname->-r requirements.txt (line 15)) (2.11.2)\n",
      "Requirement already satisfied: stack-data in /opt/app-root/lib/python3.8/site-packages (from ipython>=7.23.1->ipykernel->ipynbname->-r requirements.txt (line 15)) (0.1.3)\n",
      "Requirement already satisfied: prompt-toolkit!=3.0.0,!=3.0.1,<3.1.0,>=2.0.0 in /opt/app-root/lib/python3.8/site-packages (from ipython>=7.23.1->ipykernel->ipynbname->-r requirements.txt (line 15)) (3.0.24)\n",
      "Requirement already satisfied: pyzmq>=13 in /opt/app-root/lib/python3.8/site-packages (from jupyter-client<8.0->ipykernel->ipynbname->-r requirements.txt (line 15)) (22.3.0)\n",
      "Requirement already satisfied: jupyter-core>=4.6.0 in /opt/app-root/lib/python3.8/site-packages (from jupyter-client<8.0->ipykernel->ipynbname->-r requirements.txt (line 15)) (4.9.1)\n",
      "Requirement already satisfied: entrypoints in /opt/app-root/lib/python3.8/site-packages (from jupyter-client<8.0->ipykernel->ipynbname->-r requirements.txt (line 15)) (0.3)\n",
      "Requirement already satisfied: importlib-metadata>=4.4 in /opt/app-root/lib/python3.8/site-packages (from markdown>=2.6.8->tensorboard<2.9,>=2.8->tensorflow==2.8->-r requirements.txt (line 5)) (4.10.0)\n",
      "Requirement already satisfied: parso<0.8.0,>=0.7.0 in /opt/app-root/lib/python3.8/site-packages (from jedi>=0.16->ipython>=7.23.1->ipykernel->ipynbname->-r requirements.txt (line 15)) (0.7.1)\n",
      "Requirement already satisfied: ptyprocess>=0.5 in /opt/app-root/lib/python3.8/site-packages (from pexpect>4.3->ipython>=7.23.1->ipykernel->ipynbname->-r requirements.txt (line 15)) (0.7.0)\n",
      "Requirement already satisfied: wcwidth in /opt/app-root/lib/python3.8/site-packages (from prompt-toolkit!=3.0.0,!=3.0.1,<3.1.0,>=2.0.0->ipython>=7.23.1->ipykernel->ipynbname->-r requirements.txt (line 15)) (0.2.5)\n",
      "Requirement already satisfied: pyasn1<0.5.0,>=0.4.6 in /opt/app-root/lib/python3.8/site-packages (from pyasn1-modules>=0.2.1->google-auth<3,>=1.6.3->tensorboard<2.9,>=2.8->tensorflow==2.8->-r requirements.txt (line 5)) (0.4.8)\n",
      "Requirement already satisfied: oauthlib>=3.0.0 in /opt/app-root/lib/python3.8/site-packages (from requests-oauthlib>=0.7.0->google-auth-oauthlib<0.5,>=0.4.1->tensorboard<2.9,>=2.8->tensorflow==2.8->-r requirements.txt (line 5)) (3.1.1)\n",
      "Requirement already satisfied: appdirs in /opt/app-root/lib/python3.8/site-packages (from black->ipython>=7.23.1->ipykernel->ipynbname->-r requirements.txt (line 15)) (1.4.4)\n",
      "Requirement already satisfied: pathspec<1,>=0.8.1 in /opt/app-root/lib/python3.8/site-packages (from black->ipython>=7.23.1->ipykernel->ipynbname->-r requirements.txt (line 15)) (0.9.0)\n",
      "Requirement already satisfied: toml>=0.10.1 in /opt/app-root/lib/python3.8/site-packages (from black->ipython>=7.23.1->ipykernel->ipynbname->-r requirements.txt (line 15)) (0.10.2)\n",
      "Requirement already satisfied: mypy-extensions>=0.4.3 in /opt/app-root/lib/python3.8/site-packages (from black->ipython>=7.23.1->ipykernel->ipynbname->-r requirements.txt (line 15)) (0.4.3)\n",
      "Requirement already satisfied: executing in /opt/app-root/lib/python3.8/site-packages (from stack-data->ipython>=7.23.1->ipykernel->ipynbname->-r requirements.txt (line 15)) (0.8.2)\n",
      "Requirement already satisfied: asttokens in /opt/app-root/lib/python3.8/site-packages (from stack-data->ipython>=7.23.1->ipykernel->ipynbname->-r requirements.txt (line 15)) (2.0.5)\n",
      "Requirement already satisfied: pure-eval in /opt/app-root/lib/python3.8/site-packages (from stack-data->ipython>=7.23.1->ipykernel->ipynbname->-r requirements.txt (line 15)) (0.2.1)\n",
      "Note: you may need to restart the kernel to use updated packages.\n"
     ]
    }
   ],
   "source": [
    "%pip install -r requirements.txt\n",
    "\n"
   ]
  },
  {
   "cell_type": "code",
   "execution_count": 2,
   "id": "8e8d1d55-f228-462c-ac0f-dafc2e03bfb3",
   "metadata": {},
   "outputs": [
    {
     "data": {
      "text/plain": [
       "'/opt/app-root/src/NLP-Consumer-Complain-Classification'"
      ]
     },
     "execution_count": 2,
     "metadata": {},
     "output_type": "execute_result"
    }
   ],
   "source": [
    "import os\n",
    "cwd = os.getcwd()\n",
    "cwd"
   ]
  },
  {
   "cell_type": "code",
   "execution_count": 3,
   "id": "5fc4b5c7-a1fc-42e8-8c00-f2987f6803c6",
   "metadata": {},
   "outputs": [],
   "source": [
    "import sys\n",
    "# sys.path is a list of absolute path strings\n",
    "sys.path.append(cwd)\n",
    "from src.dataloading.read_dataset import ReadData\n",
    "from src.features.build_features import BuildFeatures\n",
    "from src.modules.build_model import BuildModel\n",
    "from src.modules.train_model import TrainModel\n",
    "from src.modules.predict_model import Predictor,Transformer\n",
    "\n",
    "# from src.modules.predict_model import BuildModel\n",
    "# from src.modules.train_model import BuildModel\n"
   ]
  },
  {
   "cell_type": "markdown",
   "id": "cea4e1d0-9de3-4fce-b43d-3a2463510d19",
   "metadata": {},
   "source": [
    "# Load Libraries"
   ]
  },
  {
   "cell_type": "code",
   "execution_count": 4,
   "id": "9230902c",
   "metadata": {},
   "outputs": [],
   "source": [
    "# import sys\n",
    "# # sys.path is a list of absolute path strings\n",
    "# sys.path.append('/opt/app-root/src/anz_ml_project/')\n",
    "\n",
    "# from src.features.build_features import BuildFeatures\n",
    "\n",
    "import os\n",
    "import numpy as np\n",
    "import pandas as pd\n",
    "import tensorflow as tf\n",
    "import tensorflow_addons as tfa\n",
    "from sklearn.feature_extraction.text import TfidfVectorizer\n",
    "import sklearn.feature_extraction.text as text\n",
    "from sklearn import model_selection, preprocessing, linear_model, naive_bayes, metrics, svm\n",
    "# from sklearn.naive_bayes import MultinomialNB\n",
    "# from sklearn.linear_model import LogisticRegression\n",
    "# from sklearn.ensemble import RandomForestClassifier\n",
    "# from sklearn.svm import LinearSVC\n",
    "from sklearn.model_selection import cross_val_score\n",
    "from sklearn.model_selection import train_test_split\n",
    "from sklearn.metrics import classification_report\n",
    "\n",
    "from textblob import TextBlob\n",
    "from nltk.stem import PorterStemmer,SnowballStemmer\n",
    "from textblob import Word\n",
    "from sklearn.feature_extraction.text import CountVectorizer,TfidfVectorizer\n",
    "from nltk.corpus import stopwords\n",
    "from nltk.tokenize import sent_tokenize, word_tokenize\n",
    "from nltk.tokenize.toktok import ToktokTokenizer\n",
    "# from wordcloud import WordCloudfrom wordcloud import WordCloud\n",
    "from io import StringIO\n",
    "import string\n",
    "import gensim\n",
    "from gensim.models import Word2Vec\n",
    "import itertools\n",
    "import scipy\n",
    "from scipy import spatial\n",
    "import seaborn as sns\n",
    "import matplotlib.pyplot as plt\n",
    "import re\n",
    "import nltk\n",
    "import joblib\n",
    "\n",
    "import warnings\n",
    "\n",
    "import subprocess\n",
    "import ipynbname\n",
    "warnings.filterwarnings(\"ignore\")\n",
    "import absl.logging\n",
    "absl.logging.set_verbosity(absl.logging.ERROR)\n",
    "from tensorflow.keras.preprocessing.sequence import pad_sequences\n",
    "\n",
    "\n",
    "\n",
    "tokenizer = ToktokTokenizer()\n",
    "# stopword_list = nltk.download('stopwords')"
   ]
  },
  {
   "cell_type": "markdown",
   "id": "1aabb275",
   "metadata": {},
   "source": [
    "# Readinng the data\n"
   ]
  },
  {
   "cell_type": "code",
   "execution_count": 5,
   "id": "1c8f24db-e2bb-4dff-ba49-aa89fda5098c",
   "metadata": {},
   "outputs": [
    {
     "name": "stdout",
     "output_type": "stream",
     "text": [
      "['Bank account or service' 'Consumer Loan' 'Credit card'\n",
      " 'Credit reporting' 'Debt collection' 'Money transfers' 'Mortgage'\n",
      " 'Other financial service' 'Payday loan' 'Prepaid card' 'Student loan']\n",
      "(array([ 0,  1,  2,  3,  4,  5,  6,  7,  8,  9, 10]), array([119,  90, 184, 242, 436,  22, 400,   2,  26,  10,  69]))\n",
      "(array([ 0,  1,  2,  3,  4,  5,  6,  7,  8,  9, 10]), array([ 30,  22,  46,  61, 109,   5, 100,   1,   7,   2,  17]))\n"
     ]
    }
   ],
   "source": [
    "train_data, test_data, train_labels, test_labels,enc = ReadData(DATA_PATH=\"./dataset/csv/data.csv\").ReadDataFrameData()"
   ]
  },
  {
   "cell_type": "code",
   "execution_count": 6,
   "id": "50f7d20f-dba4-4216-8eff-7b3a5cfc12ef",
   "metadata": {},
   "outputs": [
    {
     "data": {
      "text/plain": [
       "pandas.core.frame.DataFrame"
      ]
     },
     "execution_count": 6,
     "metadata": {},
     "output_type": "execute_result"
    }
   ],
   "source": [
    "test_data1 = test_data.copy()\n",
    "type(test_data1)\n",
    "test_data2 = test_data1.to_frame()\n",
    "test_labels1 = test_labels\n",
    "type(test_data2)"
   ]
  },
  {
   "cell_type": "code",
   "execution_count": 7,
   "id": "7541b519-9301-4792-8994-5a6a7ef5bb61",
   "metadata": {},
   "outputs": [
    {
     "data": {
      "text/plain": [
       "consumer_complaint_narrative    failed check paperwork stated real money washe...\n",
       "Name: 737, dtype: object"
      ]
     },
     "execution_count": 7,
     "metadata": {},
     "output_type": "execute_result"
    }
   ],
   "source": [
    "str1 = test_data2.iloc[1]\n",
    "str1"
   ]
  },
  {
   "cell_type": "code",
   "execution_count": 8,
   "id": "9b198734-8199-4497-b98a-e8c53f768eef",
   "metadata": {},
   "outputs": [],
   "source": [
    "label1= test_labels1[1]\n",
    "\n"
   ]
  },
  {
   "cell_type": "code",
   "execution_count": 9,
   "id": "d70fe7e6-69e8-4ba7-bfcf-16a5fcf2f0e4",
   "metadata": {},
   "outputs": [
    {
     "name": "stdout",
     "output_type": "stream",
     "text": [
      "Loading model 4553\n"
     ]
    },
    {
     "name": "stderr",
     "output_type": "stream",
     "text": [
      "2022-02-25 05:39:14.942661: W tensorflow/stream_executor/platform/default/dso_loader.cc:64] Could not load dynamic library 'libcuda.so.1'; dlerror: libcuda.so.1: cannot open shared object file: No such file or directory; LD_LIBRARY_PATH: /usr/local/nvidia/lib:/usr/local/nvidia/lib64\n",
      "2022-02-25 05:39:14.942693: W tensorflow/stream_executor/cuda/cuda_driver.cc:269] failed call to cuInit: UNKNOWN ERROR (303)\n",
      "2022-02-25 05:39:14.942715: I tensorflow/stream_executor/cuda/cuda_diagnostics.cc:156] kernel driver does not appear to be running on this host (jupyterhub-nb-amirgholipour): /proc/driver/nvidia/version does not exist\n",
      "2022-02-25 05:39:14.942930: I tensorflow/core/platform/cpu_feature_guard.cc:151] This TensorFlow binary is optimized with oneAPI Deep Neural Network Library (oneDNN) to use the following CPU instructions in performance-critical operations:  AVX2 AVX512F FMA\n",
      "To enable them in other operations, rebuild TensorFlow with the appropriate compiler flags.\n"
     ]
    },
    {
     "name": "stdout",
     "output_type": "stream",
     "text": [
      "Loaded model\n",
      "Models have just loaded!!!!\n",
      "Step1: Loading models\n"
     ]
    },
    {
     "ename": "KeyError",
     "evalue": "'data'",
     "output_type": "error",
     "traceback": [
      "\u001b[0;31m---------------------------------------------------------------------------\u001b[0m",
      "\u001b[0;31mKeyError\u001b[0m                                  Traceback (most recent call last)",
      "File \u001b[0;32m/opt/app-root/lib64/python3.8/site-packages/pandas/core/indexes/base.py:3080\u001b[0m, in \u001b[0;36mIndex.get_loc\u001b[0;34m(self, key, method, tolerance)\u001b[0m\n\u001b[1;32m   3079\u001b[0m \u001b[38;5;28;01mtry\u001b[39;00m:\n\u001b[0;32m-> 3080\u001b[0m     \u001b[38;5;28;01mreturn\u001b[39;00m \u001b[38;5;28;48;5;17mself\u001b[39;49m\u001b[38;5;241;48;5;17m.\u001b[39;49m\u001b[48;5;17m_engine\u001b[49m\u001b[38;5;241;48;5;17m.\u001b[39;49m\u001b[48;5;17mget_loc\u001b[49m\u001b[48;5;17m(\u001b[49m\u001b[48;5;17mcasted_key\u001b[49m\u001b[48;5;17m)\u001b[49m\n\u001b[1;32m   3081\u001b[0m \u001b[38;5;28;01mexcept\u001b[39;00m \u001b[38;5;167;01mKeyError\u001b[39;00m \u001b[38;5;28;01mas\u001b[39;00m err:\n",
      "File \u001b[0;32mpandas/_libs/index.pyx:70\u001b[0m, in \u001b[0;36mpandas._libs.index.IndexEngine.get_loc\u001b[0;34m()\u001b[0m\n",
      "File \u001b[0;32mpandas/_libs/index.pyx:101\u001b[0m, in \u001b[0;36mpandas._libs.index.IndexEngine.get_loc\u001b[0;34m()\u001b[0m\n",
      "File \u001b[0;32mpandas/_libs/hashtable_class_helper.pxi:4554\u001b[0m, in \u001b[0;36mpandas._libs.hashtable.PyObjectHashTable.get_item\u001b[0;34m()\u001b[0m\n",
      "File \u001b[0;32mpandas/_libs/hashtable_class_helper.pxi:4562\u001b[0m, in \u001b[0;36mpandas._libs.hashtable.PyObjectHashTable.get_item\u001b[0;34m()\u001b[0m\n",
      "\u001b[0;31mKeyError\u001b[0m: 'data'",
      "\nThe above exception was the direct cause of the following exception:\n",
      "\u001b[0;31mKeyError\u001b[0m                                  Traceback (most recent call last)",
      "Input \u001b[0;32mIn [9]\u001b[0m, in \u001b[0;36m<module>\u001b[0;34m\u001b[0m\n\u001b[1;32m      1\u001b[0m \u001b[38;5;28;01mfrom\u001b[39;00m \u001b[38;5;21;01mprediction\u001b[39;00m \u001b[38;5;28;01mimport\u001b[39;00m predict\n\u001b[0;32m----> 3\u001b[0m \u001b[48;5;17mpredict\u001b[49m\u001b[48;5;17m(\u001b[49m\u001b[48;5;17m \u001b[49m\u001b[48;5;17mstr1\u001b[49m\u001b[48;5;17m)\u001b[49m\n",
      "File \u001b[0;32m~/NLP-Consumer-Complain-Classification/prediction.py:35\u001b[0m, in \u001b[0;36mpredict\u001b[0;34m(X)\u001b[0m\n\u001b[1;32m     32\u001b[0m \u001b[38;5;28;01mdef\u001b[39;00m \u001b[38;5;21mpredict\u001b[39m(X):\n\u001b[1;32m     34\u001b[0m     \u001b[38;5;28mprint\u001b[39m (\u001b[38;5;124m'\u001b[39m\u001b[38;5;124mStep1: Loading models\u001b[39m\u001b[38;5;124m'\u001b[39m)\n\u001b[0;32m---> 35\u001b[0m     \u001b[38;5;28mprint\u001b[39m (\u001b[48;5;17mX\u001b[49m\u001b[48;5;17m[\u001b[49m\u001b[38;5;124;48;5;17m'\u001b[39;49m\u001b[38;5;124;48;5;17mdata\u001b[39;49m\u001b[38;5;124;48;5;17m'\u001b[39;49m\u001b[48;5;17m]\u001b[49m)\n\u001b[1;32m     36\u001b[0m     \u001b[38;5;66;03m# model, labelencoder, tokenizer = load()\u001b[39;00m\n\u001b[1;32m     38\u001b[0m     \u001b[38;5;28mprint\u001b[39m (\u001b[38;5;124m'\u001b[39m\u001b[38;5;124mStep1 finished!!!!\u001b[39m\u001b[38;5;124m'\u001b[39m)\n",
      "File \u001b[0;32m/opt/app-root/lib64/python3.8/site-packages/pandas/core/series.py:853\u001b[0m, in \u001b[0;36mSeries.__getitem__\u001b[0;34m(self, key)\u001b[0m\n\u001b[1;32m    850\u001b[0m     \u001b[38;5;28;01mreturn\u001b[39;00m \u001b[38;5;28mself\u001b[39m\u001b[38;5;241m.\u001b[39m_values[key]\n\u001b[1;32m    852\u001b[0m \u001b[38;5;28;01melif\u001b[39;00m key_is_scalar:\n\u001b[0;32m--> 853\u001b[0m     \u001b[38;5;28;01mreturn\u001b[39;00m \u001b[38;5;28;48;5;17mself\u001b[39;49m\u001b[38;5;241;48;5;17m.\u001b[39;49m\u001b[48;5;17m_get_value\u001b[49m\u001b[48;5;17m(\u001b[49m\u001b[48;5;17mkey\u001b[49m\u001b[48;5;17m)\u001b[49m\n\u001b[1;32m    855\u001b[0m \u001b[38;5;28;01mif\u001b[39;00m is_hashable(key):\n\u001b[1;32m    856\u001b[0m     \u001b[38;5;66;03m# Otherwise index.get_value will raise InvalidIndexError\u001b[39;00m\n\u001b[1;32m    857\u001b[0m     \u001b[38;5;28;01mtry\u001b[39;00m:\n\u001b[1;32m    858\u001b[0m         \u001b[38;5;66;03m# For labels that don't resolve as scalars like tuples and frozensets\u001b[39;00m\n",
      "File \u001b[0;32m/opt/app-root/lib64/python3.8/site-packages/pandas/core/series.py:961\u001b[0m, in \u001b[0;36mSeries._get_value\u001b[0;34m(self, label, takeable)\u001b[0m\n\u001b[1;32m    958\u001b[0m     \u001b[38;5;28;01mreturn\u001b[39;00m \u001b[38;5;28mself\u001b[39m\u001b[38;5;241m.\u001b[39m_values[label]\n\u001b[1;32m    960\u001b[0m \u001b[38;5;66;03m# Similar to Index.get_value, but we do not fall back to positional\u001b[39;00m\n\u001b[0;32m--> 961\u001b[0m loc \u001b[38;5;241m=\u001b[39m \u001b[38;5;28;48;5;17mself\u001b[39;49m\u001b[38;5;241;48;5;17m.\u001b[39;49m\u001b[48;5;17mindex\u001b[49m\u001b[38;5;241;48;5;17m.\u001b[39;49m\u001b[48;5;17mget_loc\u001b[49m\u001b[48;5;17m(\u001b[49m\u001b[48;5;17mlabel\u001b[49m\u001b[48;5;17m)\u001b[49m\n\u001b[1;32m    962\u001b[0m \u001b[38;5;28;01mreturn\u001b[39;00m \u001b[38;5;28mself\u001b[39m\u001b[38;5;241m.\u001b[39mindex\u001b[38;5;241m.\u001b[39m_get_values_for_loc(\u001b[38;5;28mself\u001b[39m, loc, label)\n",
      "File \u001b[0;32m/opt/app-root/lib64/python3.8/site-packages/pandas/core/indexes/base.py:3082\u001b[0m, in \u001b[0;36mIndex.get_loc\u001b[0;34m(self, key, method, tolerance)\u001b[0m\n\u001b[1;32m   3080\u001b[0m         \u001b[38;5;28;01mreturn\u001b[39;00m \u001b[38;5;28mself\u001b[39m\u001b[38;5;241m.\u001b[39m_engine\u001b[38;5;241m.\u001b[39mget_loc(casted_key)\n\u001b[1;32m   3081\u001b[0m     \u001b[38;5;28;01mexcept\u001b[39;00m \u001b[38;5;167;01mKeyError\u001b[39;00m \u001b[38;5;28;01mas\u001b[39;00m err:\n\u001b[0;32m-> 3082\u001b[0m         \u001b[38;5;28;01mraise\u001b[39;00m \u001b[38;5;167;01mKeyError\u001b[39;00m(key) \u001b[38;5;28;01mfrom\u001b[39;00m \u001b[38;5;21;01merr\u001b[39;00m\n\u001b[1;32m   3084\u001b[0m \u001b[38;5;28;01mif\u001b[39;00m tolerance \u001b[38;5;129;01mis\u001b[39;00m \u001b[38;5;129;01mnot\u001b[39;00m \u001b[38;5;28;01mNone\u001b[39;00m:\n\u001b[1;32m   3085\u001b[0m     tolerance \u001b[38;5;241m=\u001b[39m \u001b[38;5;28mself\u001b[39m\u001b[38;5;241m.\u001b[39m_convert_tolerance(tolerance, np\u001b[38;5;241m.\u001b[39masarray(key))\n",
      "\u001b[0;31mKeyError\u001b[0m: 'data'"
     ]
    }
   ],
   "source": [
    "from prediction import predict\n",
    "\n",
    "predict( str1)"
   ]
  },
  {
   "cell_type": "code",
   "execution_count": null,
   "id": "2c06c482-66d6-4ee3-9741-461ce26560d0",
   "metadata": {},
   "outputs": [],
   "source": [
    "joblib.dump(enc, './models/labelencoder.pkl')  "
   ]
  },
  {
   "cell_type": "code",
   "execution_count": 10,
   "id": "409a6120-e387-4d17-aa38-7768f7c279b0",
   "metadata": {},
   "outputs": [
    {
     "data": {
      "text/plain": [
       "(1600,)"
      ]
     },
     "execution_count": 10,
     "metadata": {},
     "output_type": "execute_result"
    }
   ],
   "source": [
    "# from src.features.build_features import BuildFeatures\n",
    "train_data.shape"
   ]
  },
  {
   "cell_type": "code",
   "execution_count": 11,
   "id": "05cf964d-4da8-424e-ab28-d6fd39e6a3c4",
   "metadata": {},
   "outputs": [
    {
     "data": {
      "text/plain": [
       "(400,)"
      ]
     },
     "execution_count": 11,
     "metadata": {},
     "output_type": "execute_result"
    }
   ],
   "source": [
    "test_labels.shape"
   ]
  },
  {
   "cell_type": "markdown",
   "id": "b4f116d8-378f-42ba-ae65-f6bda55a4e63",
   "metadata": {},
   "source": [
    "# Prepare data for modeling"
   ]
  },
  {
   "cell_type": "code",
   "execution_count": 12,
   "id": "c80efa33-a23a-427e-8711-9b661198c995",
   "metadata": {},
   "outputs": [],
   "source": [
    "#### if you would like to use glove weights\n",
    "weight_flag = True"
   ]
  },
  {
   "cell_type": "code",
   "execution_count": 13,
   "id": "e347a28f-63d6-4aa1-aa8e-7f24b2ce0650",
   "metadata": {},
   "outputs": [],
   "source": [
    "BFCLASS = BuildFeatures(TRAIN_DATA=train_data,TEST_DATA=test_data,TRAIN_LABELS=train_labels,TEST_LABELS=test_labels, GloveData=\"./dataset/glove.6B.50d.txt\",EMBEDDING_DIM=50, WEIGHT_FLAG = weight_flag)"
   ]
  },
  {
   "cell_type": "code",
   "execution_count": 14,
   "id": "9c1e5e30-daed-4acd-8da9-028c765b79ec",
   "metadata": {},
   "outputs": [
    {
     "name": "stdout",
     "output_type": "stream",
     "text": [
      "Maximum Sequence length is 348 .\n",
      "Found 7380 unique tokens.\n",
      "Shape of train data tensor: (1600, 348)\n",
      "Shape of train label tensor: (1600, 11)\n",
      "Shape of test label tensor: (400, 11)\n",
      "Found 400000 word vectors.\n"
     ]
    }
   ],
   "source": [
    "\n",
    "if weight_flag== True:\n",
    "    train_data,test_data,train_labels , test_labels,word_index,tokenizer,MAX_SEQUENCE_LENGTH,embedding_matrix = BFCLASS.PreProcessingTextData()\n",
    "\n",
    "\n",
    "else:\n",
    "    train_data,test_data,train_labels , test_labels,word_index,tokenizer,MAX_SEQUENCE_LENGTH = BFCLASS.PreProcessingTextData()"
   ]
  },
  {
   "cell_type": "code",
   "execution_count": 15,
   "id": "22b3687a-45fe-48de-bf47-59e1a7f9e9c7",
   "metadata": {},
   "outputs": [
    {
     "data": {
      "text/plain": [
       "['./models/tokenizer.pkl']"
      ]
     },
     "execution_count": 15,
     "metadata": {},
     "output_type": "execute_result"
    }
   ],
   "source": [
    "joblib.dump(tokenizer, './models/tokenizer.pkl')  "
   ]
  },
  {
   "cell_type": "code",
   "execution_count": 16,
   "id": "3ae61e24-45bc-4ac9-9413-6995ce125fb0",
   "metadata": {},
   "outputs": [
    {
     "data": {
      "text/plain": [
       "7380"
      ]
     },
     "execution_count": 16,
     "metadata": {},
     "output_type": "execute_result"
    }
   ],
   "source": [
    "len(word_index)"
   ]
  },
  {
   "cell_type": "markdown",
   "id": "f577c518",
   "metadata": {
    "pycharm": {
     "name": "#%% md\n"
    }
   },
   "source": [
    "# Deep Learning define, train and test model\n"
   ]
  },
  {
   "cell_type": "markdown",
   "id": "752ffe69-6213-4614-aa12-32b1cbdfd885",
   "metadata": {},
   "source": [
    "## Define the Model"
   ]
  },
  {
   "cell_type": "code",
   "execution_count": 17,
   "id": "b740adae-5c4f-4d0c-90ef-b8cfb9da8720",
   "metadata": {},
   "outputs": [
    {
     "name": "stdout",
     "output_type": "stream",
     "text": [
      "Model: \"sequential\"\n",
      "_________________________________________________________________\n",
      " Layer (type)                Output Shape              Param #   \n",
      "=================================================================\n",
      " embedding (Embedding)       (None, 348, 50)           369050    \n",
      "                                                                 \n",
      " bidirectional (Bidirectiona  (None, 348, 200)         120800    \n",
      " l)                                                              \n",
      "                                                                 \n",
      " bidirectional_1 (Bidirectio  (None, 512)              935936    \n",
      " nal)                                                            \n",
      "                                                                 \n",
      " dense (Dense)               (None, 11)                5643      \n",
      "                                                                 \n",
      "=================================================================\n",
      "Total params: 1,431,429\n",
      "Trainable params: 1,431,429\n",
      "Non-trainable params: 0\n",
      "_________________________________________________________________\n"
     ]
    }
   ],
   "source": [
    "if weight_flag== True:\n",
    "    model = BuildModel(WORD_INDEX=word_index, MAX_SEQUENCE_LENGTH=MAX_SEQUENCE_LENGTH, EMWEIGHTS=embedding_matrix).SetupModel()\n",
    "else:\n",
    "    model = BuildModel(WORD_INDEX=word_index, MAX_SEQUENCE_LENGTH=MAX_SEQUENCE_LENGTH, EMWEIGHTS=[]).SetupModel()    "
   ]
  },
  {
   "cell_type": "markdown",
   "id": "5c37d919-de54-4565-a4b6-74a58e4f1329",
   "metadata": {},
   "source": [
    "## Train the Model"
   ]
  },
  {
   "cell_type": "code",
   "execution_count": 18,
   "id": "df9aca2b-be70-4ca2-b89d-c33df03f2d3c",
   "metadata": {},
   "outputs": [
    {
     "name": "stdout",
     "output_type": "stream",
     "text": [
      "Epoch 1/50\n",
      "25/25 [==============================] - 41s 1s/step - loss: 1.8557 - acc: 0.3613 - val_loss: 1.6105 - val_acc: 0.4425\n",
      "Epoch 2/50\n",
      "25/25 [==============================] - 35s 1s/step - loss: 1.5211 - acc: 0.4913 - val_loss: 1.3709 - val_acc: 0.5275\n",
      "Epoch 3/50\n",
      "25/25 [==============================] - 35s 1s/step - loss: 1.2751 - acc: 0.5756 - val_loss: 1.1898 - val_acc: 0.6375\n",
      "Epoch 4/50\n",
      "25/25 [==============================] - 35s 1s/step - loss: 1.1198 - acc: 0.6263 - val_loss: 1.0584 - val_acc: 0.6725\n",
      "Epoch 5/50\n",
      "25/25 [==============================] - 35s 1s/step - loss: 1.0042 - acc: 0.6587 - val_loss: 1.1620 - val_acc: 0.6175\n",
      "Epoch 6/50\n",
      "25/25 [==============================] - 35s 1s/step - loss: 0.9027 - acc: 0.7094 - val_loss: 0.9159 - val_acc: 0.7400\n",
      "Epoch 7/50\n",
      "25/25 [==============================] - 35s 1s/step - loss: 0.8232 - acc: 0.7319 - val_loss: 0.8851 - val_acc: 0.7475\n",
      "Epoch 8/50\n",
      "25/25 [==============================] - 35s 1s/step - loss: 0.7280 - acc: 0.7588 - val_loss: 0.8502 - val_acc: 0.7625\n",
      "Epoch 9/50\n",
      "25/25 [==============================] - 35s 1s/step - loss: 0.7135 - acc: 0.7681 - val_loss: 0.8944 - val_acc: 0.7450\n",
      "Epoch 10/50\n",
      "25/25 [==============================] - 35s 1s/step - loss: 0.6041 - acc: 0.8181 - val_loss: 0.9227 - val_acc: 0.7575\n",
      "Epoch 11/50\n",
      "25/25 [==============================] - 35s 1s/step - loss: 0.5531 - acc: 0.8300 - val_loss: 0.8692 - val_acc: 0.7550\n",
      "Epoch 12/50\n",
      "25/25 [==============================] - 35s 1s/step - loss: 0.4923 - acc: 0.8338 - val_loss: 0.8487 - val_acc: 0.7700\n",
      "Epoch 13/50\n",
      "25/25 [==============================] - 35s 1s/step - loss: 0.4918 - acc: 0.8375 - val_loss: 0.8014 - val_acc: 0.7950\n",
      "Epoch 14/50\n",
      "25/25 [==============================] - 35s 1s/step - loss: 0.4495 - acc: 0.8562 - val_loss: 0.8956 - val_acc: 0.7825\n",
      "Epoch 15/50\n",
      "25/25 [==============================] - 35s 1s/step - loss: 0.3883 - acc: 0.8687 - val_loss: 0.9310 - val_acc: 0.7675\n",
      "Epoch 16/50\n",
      "25/25 [==============================] - 35s 1s/step - loss: 0.3708 - acc: 0.8756 - val_loss: 0.8948 - val_acc: 0.7775\n",
      "Epoch 17/50\n",
      "25/25 [==============================] - 35s 1s/step - loss: 0.3417 - acc: 0.8863 - val_loss: 0.9036 - val_acc: 0.7900\n",
      "Epoch 18/50\n",
      "25/25 [==============================] - 35s 1s/step - loss: 0.3382 - acc: 0.8869 - val_loss: 1.0248 - val_acc: 0.7550\n",
      "Epoch 19/50\n",
      "25/25 [==============================] - 35s 1s/step - loss: 0.3104 - acc: 0.9013 - val_loss: 0.9243 - val_acc: 0.7700\n",
      "Epoch 20/50\n",
      "25/25 [==============================] - 35s 1s/step - loss: 0.2550 - acc: 0.9181 - val_loss: 1.0070 - val_acc: 0.7825\n",
      "Epoch 21/50\n",
      "25/25 [==============================] - 35s 1s/step - loss: 0.2320 - acc: 0.9281 - val_loss: 0.9405 - val_acc: 0.7850\n",
      "Epoch 22/50\n",
      "25/25 [==============================] - 35s 1s/step - loss: 0.2283 - acc: 0.9300 - val_loss: 1.0307 - val_acc: 0.7625\n",
      "Epoch 23/50\n",
      "25/25 [==============================] - 35s 1s/step - loss: 0.1919 - acc: 0.9375 - val_loss: 0.9701 - val_acc: 0.8000\n",
      "Epoch 24/50\n",
      "25/25 [==============================] - 35s 1s/step - loss: 0.2017 - acc: 0.9356 - val_loss: 1.0476 - val_acc: 0.7625\n",
      "Epoch 25/50\n",
      "25/25 [==============================] - 35s 1s/step - loss: 0.2015 - acc: 0.9350 - val_loss: 1.0043 - val_acc: 0.7775\n",
      "Epoch 26/50\n",
      "25/25 [==============================] - 35s 1s/step - loss: 0.1704 - acc: 0.9438 - val_loss: 0.9956 - val_acc: 0.7775\n",
      "Epoch 27/50\n",
      "25/25 [==============================] - 35s 1s/step - loss: 0.1286 - acc: 0.9638 - val_loss: 0.9763 - val_acc: 0.8000\n",
      "Epoch 28/50\n",
      "25/25 [==============================] - 35s 1s/step - loss: 0.1204 - acc: 0.9575 - val_loss: 1.0639 - val_acc: 0.7800\n",
      "Epoch 29/50\n",
      "25/25 [==============================] - 35s 1s/step - loss: 0.1314 - acc: 0.9563 - val_loss: 1.0148 - val_acc: 0.7925\n",
      "Epoch 30/50\n",
      "25/25 [==============================] - 35s 1s/step - loss: 0.1162 - acc: 0.9669 - val_loss: 1.0849 - val_acc: 0.7875\n",
      "Epoch 31/50\n",
      "25/25 [==============================] - 35s 1s/step - loss: 0.1050 - acc: 0.9694 - val_loss: 1.0451 - val_acc: 0.7950\n",
      "Epoch 32/50\n",
      "25/25 [==============================] - 35s 1s/step - loss: 0.0954 - acc: 0.9694 - val_loss: 1.0191 - val_acc: 0.8000\n",
      "Epoch 33/50\n",
      "25/25 [==============================] - 35s 1s/step - loss: 0.0945 - acc: 0.9669 - val_loss: 1.2761 - val_acc: 0.7550\n",
      "Epoch 34/50\n",
      "25/25 [==============================] - 35s 1s/step - loss: 0.1284 - acc: 0.9556 - val_loss: 1.0711 - val_acc: 0.7925\n",
      "Epoch 35/50\n",
      "25/25 [==============================] - 35s 1s/step - loss: 0.0775 - acc: 0.9725 - val_loss: 1.0970 - val_acc: 0.7975\n",
      "Epoch 36/50\n",
      "25/25 [==============================] - 35s 1s/step - loss: 0.0728 - acc: 0.9731 - val_loss: 1.1659 - val_acc: 0.7900\n",
      "Epoch 37/50\n",
      "25/25 [==============================] - 35s 1s/step - loss: 0.0861 - acc: 0.9712 - val_loss: 1.1294 - val_acc: 0.7900\n",
      "Epoch 38/50\n",
      "25/25 [==============================] - 35s 1s/step - loss: 0.0761 - acc: 0.9769 - val_loss: 1.1638 - val_acc: 0.7875\n",
      "Epoch 39/50\n",
      "25/25 [==============================] - 35s 1s/step - loss: 0.0682 - acc: 0.9750 - val_loss: 1.0788 - val_acc: 0.8000\n",
      "Epoch 40/50\n",
      "25/25 [==============================] - 35s 1s/step - loss: 0.0632 - acc: 0.9806 - val_loss: 1.1116 - val_acc: 0.7875\n",
      "Epoch 41/50\n",
      "25/25 [==============================] - 35s 1s/step - loss: 0.0462 - acc: 0.9831 - val_loss: 1.1555 - val_acc: 0.7950\n",
      "Epoch 42/50\n",
      "25/25 [==============================] - 35s 1s/step - loss: 0.0381 - acc: 0.9862 - val_loss: 1.1940 - val_acc: 0.7975\n",
      "Epoch 43/50\n",
      "25/25 [==============================] - 35s 1s/step - loss: 0.0583 - acc: 0.9825 - val_loss: 1.3213 - val_acc: 0.7750\n",
      "Epoch 44/50\n",
      "25/25 [==============================] - 35s 1s/step - loss: 0.0550 - acc: 0.9819 - val_loss: 1.1679 - val_acc: 0.7950\n",
      "Epoch 45/50\n",
      "25/25 [==============================] - 35s 1s/step - loss: 0.0483 - acc: 0.9837 - val_loss: 1.0912 - val_acc: 0.7875\n",
      "Epoch 46/50\n",
      "25/25 [==============================] - 35s 1s/step - loss: 0.0463 - acc: 0.9869 - val_loss: 1.2142 - val_acc: 0.7950\n",
      "Epoch 47/50\n",
      "25/25 [==============================] - 35s 1s/step - loss: 0.0771 - acc: 0.9762 - val_loss: 1.1771 - val_acc: 0.7825\n",
      "Epoch 48/50\n",
      "25/25 [==============================] - 35s 1s/step - loss: 0.0784 - acc: 0.9756 - val_loss: 1.1490 - val_acc: 0.7825\n",
      "Epoch 49/50\n",
      "25/25 [==============================] - 35s 1s/step - loss: 0.0458 - acc: 0.9844 - val_loss: 1.1304 - val_acc: 0.7900\n",
      "Epoch 50/50\n",
      "25/25 [==============================] - 35s 1s/step - loss: 0.0458 - acc: 0.9844 - val_loss: 1.1995 - val_acc: 0.7875\n"
     ]
    }
   ],
   "source": [
    "model, history= TrainModel(model, tokenizer, enc,train_data, train_labels,test_data, test_labels, BATCH_SIZE=64,EPOCHS=50).ModelTraining()"
   ]
  },
  {
   "cell_type": "markdown",
   "id": "08d0644c-f188-43c9-a17c-c327145a641e",
   "metadata": {},
   "source": [
    "### Plot the training and testing Loss"
   ]
  },
  {
   "cell_type": "code",
   "execution_count": 19,
   "id": "d9428b35",
   "metadata": {},
   "outputs": [
    {
     "data": {
      "image/png": "[encoded data removed]",
      "text/plain": [
       "<Figure size 432x288 with 1 Axes>"
      ]
     },
     "metadata": {
      "needs_background": "light"
     },
     "output_type": "display_data"
    }
   ],
   "source": [
    "fig1 = plt.figure()\n",
    "plt.plot(history.history['loss'],'r',linewidth=3.0)\n",
    "plt.plot(history.history['val_loss'],'b',linewidth=3.0)\n",
    "plt.legend(['Training loss', 'Validation Loss'],fontsize=18)\n",
    "plt.xlabel('Epochs ',fontsize=16)\n",
    "plt.ylabel('Loss',fontsize=16)\n",
    "plt.title('Loss Curves :RNN - LSTM',fontsize=16)\n",
    "plt.show()"
   ]
  },
  {
   "cell_type": "markdown",
   "id": "4f7712ce-2e36-476e-80fa-68b568cb52f5",
   "metadata": {},
   "source": [
    "#### Plot the training and testing Accuracy"
   ]
  },
  {
   "cell_type": "code",
   "execution_count": 20,
   "id": "1d876903",
   "metadata": {},
   "outputs": [
    {
     "data": {
      "image/png": "[encoded data removed]",
      "text/plain": [
       "<Figure size 432x288 with 1 Axes>"
      ]
     },
     "metadata": {
      "needs_background": "light"
     },
     "output_type": "display_data"
    }
   ],
   "source": [
    "fig1 = plt.figure()\n",
    "plt.plot(history.history['acc'],'r',linewidth=3.0)\n",
    "plt.plot(history.history['val_acc'],'b',linewidth=3.0)\n",
    "plt.legend(['Training acc', 'Validation acc'],fontsize=18)\n",
    "plt.xlabel('Epochs ',fontsize=16)\n",
    "plt.ylabel('Accuracy',fontsize=16)\n",
    "plt.title('Accuracy Curves :RNN - LSTM',fontsize=16)\n",
    "plt.show()"
   ]
  },
  {
   "cell_type": "markdown",
   "id": "8a92b61f",
   "metadata": {},
   "source": [
    "After hours of training we get good results with LSTM(type of recurrent neural network) compared to CNN. From the learning curves it is clear the model needs to be tuned for overfitting by selecting hyperparameters such as no of epochs via early stopping and dropout for regularization.\n",
    "\n",
    "We could further improve our final result by ensembling our xgboost and Neural network models by using Logistic Regression as our base model.\n",
    "\n"
   ]
  },
  {
   "cell_type": "code",
   "execution_count": null,
   "id": "80a43af4-e74f-43f9-a69d-c04475179984",
   "metadata": {},
   "outputs": [],
   "source": []
  }
 ],
 "metadata": {
  "interpreter": {
   "hash": "10d220c55dad87bc296f91a276cffc08c658df4f112171a2982baf6251a25e4e"
  },
  "kernelspec": {
   "display_name": "Python 3 (ipykernel)",
   "language": "python",
   "name": "python3"
  },
  "language_info": {
   "codemirror_mode": {
    "name": "ipython",
    "version": 3
   },
   "file_extension": ".py",
   "mimetype": "text/x-python",
   "name": "python",
   "nbconvert_exporter": "python",
   "pygments_lexer": "ipython3",
   "version": "3.8.8"
  }
 },
 "nbformat": 4,
 "nbformat_minor": 5
}
